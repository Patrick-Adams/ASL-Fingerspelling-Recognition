{
  "nbformat": 4,
  "nbformat_minor": 0,
  "metadata": {
    "colab": {
      "provenance": [],
      "machine_shape": "hm",
      "gpuType": "V100",
      "collapsed_sections": [
        "TXRVKP7Nl8Up",
        "rvhLJKa4mA1N",
        "aoPNKVAYmXp8",
        "X9Twdqg1mjAL",
        "16ZE7Vytmm8B",
        "WpDN8QkonmOb"
      ]
    },
    "kernelspec": {
      "name": "python3",
      "display_name": "Python 3"
    },
    "language_info": {
      "name": "python"
    }
  },
  "cells": [
    {
      "cell_type": "markdown",
      "source": [
        "# ASL Fingerspelling Recognition\n",
        "\n",
        "Created by Patrick Adams and Gail Goveas"
      ],
      "metadata": {
        "id": "3Gla383T-5gC"
      }
    },
    {
      "cell_type": "markdown",
      "source": [
        "###Downloading Data from Cloud"
      ],
      "metadata": {
        "id": "TXRVKP7Nl8Up"
      }
    },
    {
      "cell_type": "code",
      "source": [
        "#!pip install google-cloud-storage\n",
        "!pip install keras-tcn\n",
        "!pip install keras_tuner\n"
      ],
      "metadata": {
        "id": "umQ6Tw0z_A68",
        "colab": {
          "base_uri": "https://localhost:8080/"
        },
        "outputId": "cf9ef049-3efc-4367-ce16-a75c106e4007"
      },
      "execution_count": 2,
      "outputs": [
        {
          "output_type": "stream",
          "name": "stdout",
          "text": [
            "Collecting keras-tcn\n",
            "  Downloading keras_tcn-3.5.0-py3-none-any.whl (13 kB)\n",
            "Requirement already satisfied: numpy in /usr/local/lib/python3.10/dist-packages (from keras-tcn) (1.23.5)\n",
            "Requirement already satisfied: tensorflow in /usr/local/lib/python3.10/dist-packages (from keras-tcn) (2.14.0)\n",
            "Collecting tensorflow-addons (from keras-tcn)\n",
            "  Downloading tensorflow_addons-0.23.0-cp310-cp310-manylinux_2_17_x86_64.manylinux2014_x86_64.whl (611 kB)\n",
            "\u001b[2K     \u001b[90m━━━━━━━━━━━━━━━━━━━━━━━━━━━━━━━━━━━━━━━━\u001b[0m \u001b[32m611.8/611.8 kB\u001b[0m \u001b[31m4.8 MB/s\u001b[0m eta \u001b[36m0:00:00\u001b[0m\n",
            "\u001b[?25hRequirement already satisfied: absl-py>=1.0.0 in /usr/local/lib/python3.10/dist-packages (from tensorflow->keras-tcn) (1.4.0)\n",
            "Requirement already satisfied: astunparse>=1.6.0 in /usr/local/lib/python3.10/dist-packages (from tensorflow->keras-tcn) (1.6.3)\n",
            "Requirement already satisfied: flatbuffers>=23.5.26 in /usr/local/lib/python3.10/dist-packages (from tensorflow->keras-tcn) (23.5.26)\n",
            "Requirement already satisfied: gast!=0.5.0,!=0.5.1,!=0.5.2,>=0.2.1 in /usr/local/lib/python3.10/dist-packages (from tensorflow->keras-tcn) (0.5.4)\n",
            "Requirement already satisfied: google-pasta>=0.1.1 in /usr/local/lib/python3.10/dist-packages (from tensorflow->keras-tcn) (0.2.0)\n",
            "Requirement already satisfied: h5py>=2.9.0 in /usr/local/lib/python3.10/dist-packages (from tensorflow->keras-tcn) (3.9.0)\n",
            "Requirement already satisfied: libclang>=13.0.0 in /usr/local/lib/python3.10/dist-packages (from tensorflow->keras-tcn) (16.0.6)\n",
            "Requirement already satisfied: ml-dtypes==0.2.0 in /usr/local/lib/python3.10/dist-packages (from tensorflow->keras-tcn) (0.2.0)\n",
            "Requirement already satisfied: opt-einsum>=2.3.2 in /usr/local/lib/python3.10/dist-packages (from tensorflow->keras-tcn) (3.3.0)\n",
            "Requirement already satisfied: packaging in /usr/local/lib/python3.10/dist-packages (from tensorflow->keras-tcn) (23.2)\n",
            "Requirement already satisfied: protobuf!=4.21.0,!=4.21.1,!=4.21.2,!=4.21.3,!=4.21.4,!=4.21.5,<5.0.0dev,>=3.20.3 in /usr/local/lib/python3.10/dist-packages (from tensorflow->keras-tcn) (3.20.3)\n",
            "Requirement already satisfied: setuptools in /usr/local/lib/python3.10/dist-packages (from tensorflow->keras-tcn) (67.7.2)\n",
            "Requirement already satisfied: six>=1.12.0 in /usr/local/lib/python3.10/dist-packages (from tensorflow->keras-tcn) (1.16.0)\n",
            "Requirement already satisfied: termcolor>=1.1.0 in /usr/local/lib/python3.10/dist-packages (from tensorflow->keras-tcn) (2.4.0)\n",
            "Requirement already satisfied: typing-extensions>=3.6.6 in /usr/local/lib/python3.10/dist-packages (from tensorflow->keras-tcn) (4.5.0)\n",
            "Requirement already satisfied: wrapt<1.15,>=1.11.0 in /usr/local/lib/python3.10/dist-packages (from tensorflow->keras-tcn) (1.14.1)\n",
            "Requirement already satisfied: tensorflow-io-gcs-filesystem>=0.23.1 in /usr/local/lib/python3.10/dist-packages (from tensorflow->keras-tcn) (0.34.0)\n",
            "Requirement already satisfied: grpcio<2.0,>=1.24.3 in /usr/local/lib/python3.10/dist-packages (from tensorflow->keras-tcn) (1.59.3)\n",
            "Requirement already satisfied: tensorboard<2.15,>=2.14 in /usr/local/lib/python3.10/dist-packages (from tensorflow->keras-tcn) (2.14.1)\n",
            "Requirement already satisfied: tensorflow-estimator<2.15,>=2.14.0 in /usr/local/lib/python3.10/dist-packages (from tensorflow->keras-tcn) (2.14.0)\n",
            "Requirement already satisfied: keras<2.15,>=2.14.0 in /usr/local/lib/python3.10/dist-packages (from tensorflow->keras-tcn) (2.14.0)\n",
            "Collecting typeguard<3.0.0,>=2.7 (from tensorflow-addons->keras-tcn)\n",
            "  Downloading typeguard-2.13.3-py3-none-any.whl (17 kB)\n",
            "Requirement already satisfied: wheel<1.0,>=0.23.0 in /usr/local/lib/python3.10/dist-packages (from astunparse>=1.6.0->tensorflow->keras-tcn) (0.42.0)\n",
            "Requirement already satisfied: google-auth<3,>=1.6.3 in /usr/local/lib/python3.10/dist-packages (from tensorboard<2.15,>=2.14->tensorflow->keras-tcn) (2.17.3)\n",
            "Requirement already satisfied: google-auth-oauthlib<1.1,>=0.5 in /usr/local/lib/python3.10/dist-packages (from tensorboard<2.15,>=2.14->tensorflow->keras-tcn) (1.0.0)\n",
            "Requirement already satisfied: markdown>=2.6.8 in /usr/local/lib/python3.10/dist-packages (from tensorboard<2.15,>=2.14->tensorflow->keras-tcn) (3.5.1)\n",
            "Requirement already satisfied: requests<3,>=2.21.0 in /usr/local/lib/python3.10/dist-packages (from tensorboard<2.15,>=2.14->tensorflow->keras-tcn) (2.31.0)\n",
            "Requirement already satisfied: tensorboard-data-server<0.8.0,>=0.7.0 in /usr/local/lib/python3.10/dist-packages (from tensorboard<2.15,>=2.14->tensorflow->keras-tcn) (0.7.2)\n",
            "Requirement already satisfied: werkzeug>=1.0.1 in /usr/local/lib/python3.10/dist-packages (from tensorboard<2.15,>=2.14->tensorflow->keras-tcn) (3.0.1)\n",
            "Requirement already satisfied: cachetools<6.0,>=2.0.0 in /usr/local/lib/python3.10/dist-packages (from google-auth<3,>=1.6.3->tensorboard<2.15,>=2.14->tensorflow->keras-tcn) (5.3.2)\n",
            "Requirement already satisfied: pyasn1-modules>=0.2.1 in /usr/local/lib/python3.10/dist-packages (from google-auth<3,>=1.6.3->tensorboard<2.15,>=2.14->tensorflow->keras-tcn) (0.3.0)\n",
            "Requirement already satisfied: rsa<5,>=3.1.4 in /usr/local/lib/python3.10/dist-packages (from google-auth<3,>=1.6.3->tensorboard<2.15,>=2.14->tensorflow->keras-tcn) (4.9)\n",
            "Requirement already satisfied: requests-oauthlib>=0.7.0 in /usr/local/lib/python3.10/dist-packages (from google-auth-oauthlib<1.1,>=0.5->tensorboard<2.15,>=2.14->tensorflow->keras-tcn) (1.3.1)\n",
            "Requirement already satisfied: charset-normalizer<4,>=2 in /usr/local/lib/python3.10/dist-packages (from requests<3,>=2.21.0->tensorboard<2.15,>=2.14->tensorflow->keras-tcn) (3.3.2)\n",
            "Requirement already satisfied: idna<4,>=2.5 in /usr/local/lib/python3.10/dist-packages (from requests<3,>=2.21.0->tensorboard<2.15,>=2.14->tensorflow->keras-tcn) (3.6)\n",
            "Requirement already satisfied: urllib3<3,>=1.21.1 in /usr/local/lib/python3.10/dist-packages (from requests<3,>=2.21.0->tensorboard<2.15,>=2.14->tensorflow->keras-tcn) (2.0.7)\n",
            "Requirement already satisfied: certifi>=2017.4.17 in /usr/local/lib/python3.10/dist-packages (from requests<3,>=2.21.0->tensorboard<2.15,>=2.14->tensorflow->keras-tcn) (2023.11.17)\n",
            "Requirement already satisfied: MarkupSafe>=2.1.1 in /usr/local/lib/python3.10/dist-packages (from werkzeug>=1.0.1->tensorboard<2.15,>=2.14->tensorflow->keras-tcn) (2.1.3)\n",
            "Requirement already satisfied: pyasn1<0.6.0,>=0.4.6 in /usr/local/lib/python3.10/dist-packages (from pyasn1-modules>=0.2.1->google-auth<3,>=1.6.3->tensorboard<2.15,>=2.14->tensorflow->keras-tcn) (0.5.1)\n",
            "Requirement already satisfied: oauthlib>=3.0.0 in /usr/local/lib/python3.10/dist-packages (from requests-oauthlib>=0.7.0->google-auth-oauthlib<1.1,>=0.5->tensorboard<2.15,>=2.14->tensorflow->keras-tcn) (3.2.2)\n",
            "Installing collected packages: typeguard, tensorflow-addons, keras-tcn\n",
            "Successfully installed keras-tcn-3.5.0 tensorflow-addons-0.23.0 typeguard-2.13.3\n",
            "Collecting keras_tuner\n",
            "  Downloading keras_tuner-1.4.6-py3-none-any.whl (128 kB)\n",
            "\u001b[2K     \u001b[90m━━━━━━━━━━━━━━━━━━━━━━━━━━━━━━━━━━━━━━━━\u001b[0m \u001b[32m128.9/128.9 kB\u001b[0m \u001b[31m2.6 MB/s\u001b[0m eta \u001b[36m0:00:00\u001b[0m\n",
            "\u001b[?25hRequirement already satisfied: keras in /usr/local/lib/python3.10/dist-packages (from keras_tuner) (2.14.0)\n",
            "Requirement already satisfied: packaging in /usr/local/lib/python3.10/dist-packages (from keras_tuner) (23.2)\n",
            "Requirement already satisfied: requests in /usr/local/lib/python3.10/dist-packages (from keras_tuner) (2.31.0)\n",
            "Collecting kt-legacy (from keras_tuner)\n",
            "  Downloading kt_legacy-1.0.5-py3-none-any.whl (9.6 kB)\n",
            "Requirement already satisfied: charset-normalizer<4,>=2 in /usr/local/lib/python3.10/dist-packages (from requests->keras_tuner) (3.3.2)\n",
            "Requirement already satisfied: idna<4,>=2.5 in /usr/local/lib/python3.10/dist-packages (from requests->keras_tuner) (3.6)\n",
            "Requirement already satisfied: urllib3<3,>=1.21.1 in /usr/local/lib/python3.10/dist-packages (from requests->keras_tuner) (2.0.7)\n",
            "Requirement already satisfied: certifi>=2017.4.17 in /usr/local/lib/python3.10/dist-packages (from requests->keras_tuner) (2023.11.17)\n",
            "Installing collected packages: kt-legacy, keras_tuner\n",
            "Successfully installed keras_tuner-1.4.6 kt-legacy-1.0.5\n"
          ]
        }
      ]
    },
    {
      "cell_type": "code",
      "source": [
        "#importing and authenticating google colab\n",
        "from google.cloud import storage\n",
        "from google.colab import auth\n",
        "auth.authenticate_user()"
      ],
      "metadata": {
        "id": "7_R0f_Hb_LaC"
      },
      "execution_count": 3,
      "outputs": []
    },
    {
      "cell_type": "code",
      "source": [
        "#creating a client object for Google Cloud storage\n",
        "client = storage.Client()\n",
        "\n",
        "#creating a reference to the Google Cloud bucket\n",
        "bucket = client.get_bucket('asl_fingerspelling_project_bucket-1')\n",
        "blob = bucket.blob('asl-fingerspelling/train.csv')\n",
        "blob2 = bucket.blob('asl-fingerspelling/train_landmarks/1019715464.parquet')\n",
        "blob3 = bucket.blob('asl-fingerspelling/character_to_prediction_index.json')"
      ],
      "metadata": {
        "id": "G2vMY1rV_PHy"
      },
      "execution_count": 4,
      "outputs": []
    },
    {
      "cell_type": "code",
      "source": [
        "#downloading the data to a local file\n",
        "blob.download_to_filename('train.csv')\n",
        "blob2.download_to_filename('train_landmark1.parquet')\n",
        "blob3.download_to_filename('character_to_prediction.json')"
      ],
      "metadata": {
        "id": "zKWWQQivl45R"
      },
      "execution_count": 5,
      "outputs": []
    },
    {
      "cell_type": "markdown",
      "source": [
        "###Installing Packages"
      ],
      "metadata": {
        "id": "rvhLJKa4mA1N"
      }
    },
    {
      "cell_type": "code",
      "source": [
        "#importing packages\n",
        "import pandas as pd\n",
        "import pyarrow.parquet as pq\n",
        "import json\n",
        "import numpy as np\n",
        "import tensorflow as tf\n",
        "\n",
        "from sklearn.preprocessing import StandardScaler\n",
        "\n",
        "from tensorflow.keras.utils import to_categorical\n",
        "\n",
        "from tensorflow.keras.preprocessing.sequence import pad_sequences\n",
        "\n",
        "from sklearn.model_selection import train_test_split\n",
        "\n",
        "from tensorflow.keras.models import Sequential, Model\n",
        "from tensorflow.keras.layers import LSTM, Dense, Dropout, GRU, Input\n",
        "\n",
        "import matplotlib.pyplot as plt\n",
        "\n",
        "from tensorflow.keras.callbacks import EarlyStopping, ModelCheckpoint\n",
        "\n",
        "from tcn import TCN\n",
        "\n",
        "from sklearn.metrics import precision_score, recall_score, f1_score, accuracy_score, roc_curve, auc\n",
        "\n",
        "from tensorflow.keras.callbacks import LearningRateScheduler\n",
        "\n",
        "from tensorflow.keras.layers import BatchNormalization, Dropout\n",
        "from tensorflow.keras import Input, Model\n",
        "from tensorflow.keras.optimizers import Adam\n",
        "from tcn import TCN\n",
        "from keras_tuner import RandomSearch\n",
        "\n",
        "\n"
      ],
      "metadata": {
        "id": "EBVXgHQYkTdf"
      },
      "execution_count": 6,
      "outputs": []
    },
    {
      "cell_type": "markdown",
      "source": [
        "###Loading and Analysing Data"
      ],
      "metadata": {
        "id": "aoPNKVAYmXp8"
      }
    },
    {
      "cell_type": "code",
      "source": [
        "# Loading and exploring the metadata\n",
        "metadata_df = pd.read_csv('train.csv')\n",
        "print(metadata_df.head())\n",
        "print(f\"shape of metadata is: {metadata_df.shape}\")"
      ],
      "metadata": {
        "colab": {
          "base_uri": "https://localhost:8080/"
        },
        "id": "Z1Qr_EeYAKnB",
        "outputId": "adf943fc-b686-45ad-dcfa-99bc0783a584"
      },
      "execution_count": 7,
      "outputs": [
        {
          "output_type": "stream",
          "name": "stdout",
          "text": [
            "                              path  file_id  sequence_id  participant_id  \\\n",
            "0  train_landmarks/5414471.parquet  5414471   1816796431             217   \n",
            "1  train_landmarks/5414471.parquet  5414471   1816825349             107   \n",
            "2  train_landmarks/5414471.parquet  5414471   1816909464               1   \n",
            "3  train_landmarks/5414471.parquet  5414471   1816967051              63   \n",
            "4  train_landmarks/5414471.parquet  5414471   1817123330              89   \n",
            "\n",
            "                      phrase  \n",
            "0               3 creekhouse  \n",
            "1            scales/kuhaylah  \n",
            "2        1383 william lanier  \n",
            "3          988 franklin lane  \n",
            "4  6920 northeast 661st road  \n",
            "shape of metadata is: (67208, 5)\n"
          ]
        }
      ]
    },
    {
      "cell_type": "markdown",
      "source": [
        "The dataset 67,208 records distributed across five distinctive columns.\n",
        "The features are as follows:\n",
        "\n",
        "*  ***path***- Shows where the landmark file is stored.\n",
        "*  ***file_id***- A unique identifier for the data file.\n",
        "*  ***participant_id*** A unique identifier for the data contributor.\n",
        "*  ***sequence_id*** - A unique identifier for the landmark sequence. Each data file may contain many sequences.\n",
        "\n",
        "In the \"train.csv\" dataset, there is also a label called ***phrase***. The train and test datasets contain randomly generated addresses, phone numbers, and urls derived from components of real addresses/phone numbers/urls.\n"
      ],
      "metadata": {
        "id": "xN6jr1JzU0Zz"
      }
    },
    {
      "cell_type": "code",
      "source": [
        "#Loading the landmark data which is a parquet file\n",
        "df_landmark = pd.read_parquet('train_landmark1.parquet', engine='pyarrow')\n",
        "print(df_landmark.head())\n",
        "print(f\"shape of landmark dataset is: {df_landmark.shape}\")"
      ],
      "metadata": {
        "colab": {
          "base_uri": "https://localhost:8080/"
        },
        "id": "Zzh8Oan2evR9",
        "outputId": "6b533057-2b10-4748-9ed6-91e4f572b010"
      },
      "execution_count": 8,
      "outputs": [
        {
          "output_type": "stream",
          "name": "stdout",
          "text": [
            "             frame  x_face_0  x_face_1  x_face_2  x_face_3  x_face_4  \\\n",
            "sequence_id                                                            \n",
            "1975433633       0  0.578892  0.578482  0.582906  0.572686  0.579030   \n",
            "1975433633       1  0.577563  0.578528  0.582916  0.572760  0.579090   \n",
            "1975433633       2  0.576181  0.576949  0.581346  0.572293  0.577725   \n",
            "1975433633       3  0.575575  0.577569  0.581769  0.572443  0.578289   \n",
            "1975433633       4  0.577907  0.577628  0.582295  0.572930  0.578345   \n",
            "\n",
            "             x_face_5  x_face_6  x_face_7  x_face_8  ...  z_right_hand_11  \\\n",
            "sequence_id                                          ...                    \n",
            "1975433633   0.582115  0.591430  0.498995  0.595773  ...        -0.253687   \n",
            "1975433633   0.582197  0.591687  0.497613  0.596104  ...              NaN   \n",
            "1975433633   0.581191  0.591550  0.497113  0.596477  ...        -0.233556   \n",
            "1975433633   0.581652  0.591728  0.496759  0.596573  ...        -0.190909   \n",
            "1975433633   0.581873  0.592467  0.498170  0.597383  ...              NaN   \n",
            "\n",
            "             z_right_hand_12  z_right_hand_13  z_right_hand_14  \\\n",
            "sequence_id                                                      \n",
            "1975433633         -0.291687        -0.123892        -0.195255   \n",
            "1975433633               NaN              NaN              NaN   \n",
            "1975433633         -0.267114        -0.116145        -0.179053   \n",
            "1975433633         -0.218471        -0.093956        -0.149982   \n",
            "1975433633               NaN              NaN              NaN   \n",
            "\n",
            "             z_right_hand_15  z_right_hand_16  z_right_hand_17  \\\n",
            "sequence_id                                                      \n",
            "1975433633         -0.249135        -0.284375        -0.125050   \n",
            "1975433633               NaN              NaN              NaN   \n",
            "1975433633         -0.223861        -0.253004        -0.122090   \n",
            "1975433633         -0.188452        -0.211573        -0.102759   \n",
            "1975433633               NaN              NaN              NaN   \n",
            "\n",
            "             z_right_hand_18  z_right_hand_19  z_right_hand_20  \n",
            "sequence_id                                                     \n",
            "1975433633         -0.187797        -0.224827        -0.249662  \n",
            "1975433633               NaN              NaN              NaN  \n",
            "1975433633         -0.173169        -0.200727        -0.219106  \n",
            "1975433633         -0.147642        -0.168562        -0.180578  \n",
            "1975433633               NaN              NaN              NaN  \n",
            "\n",
            "[5 rows x 1630 columns]\n",
            "shape of landmark dataset is: (161461, 1630)\n"
          ]
        }
      ]
    },
    {
      "cell_type": "code",
      "source": [
        "# Selecting a random row from the metadata\n",
        "random_row = metadata_df.sample(n=1, random_state = 10)\n",
        "\n",
        "# Extracting the 'sequence_id' and 'phrase' from the random row\n",
        "sequence_id, phrase = random_row.iloc[0][['sequence_id', 'phrase']]\n",
        "print(f\"sequence_id: {sequence_id}, phrase: {phrase}\")\n",
        "\n",
        "# Extracting rows from the landmark file where the index matches 'sequence_id'\n",
        "sample_sequence_df = df_landmark.loc[sequence_id]\n",
        "print(sample_sequence_df.head())\n",
        "print(f\"shape of {phrase} is: {sample_sequence_df.shape}\")"
      ],
      "metadata": {
        "colab": {
          "base_uri": "https://localhost:8080/"
        },
        "id": "bfiW-sJ2dTG2",
        "outputId": "81957154-efc0-4c4c-e0d4-eca5d0af6094"
      },
      "execution_count": 9,
      "outputs": [
        {
          "output_type": "stream",
          "name": "stdout",
          "text": [
            "sequence_id: 1990366432, phrase: erik hamilton\n",
            "             frame  x_face_0  x_face_1  x_face_2  x_face_3  x_face_4  \\\n",
            "sequence_id                                                            \n",
            "1990366432       0  0.605239  0.593421  0.596282  0.580097  0.592252   \n",
            "1990366432       1  0.603645  0.592110  0.595200  0.579088  0.590954   \n",
            "1990366432       2  0.603877  0.592069  0.595029  0.579474  0.591040   \n",
            "1990366432       3  0.604464  0.592974  0.595711  0.580374  0.592028   \n",
            "1990366432       4  0.608290  0.596224  0.598583  0.583649  0.595389   \n",
            "\n",
            "             x_face_5  x_face_6  x_face_7  x_face_8  ...  z_right_hand_11  \\\n",
            "sequence_id                                          ...                    \n",
            "1990366432   0.592052  0.592877  0.500375  0.591588  ...        -0.104486   \n",
            "1990366432   0.590844  0.591982  0.500396  0.590895  ...        -0.077800   \n",
            "1990366432   0.591081  0.592483  0.501297  0.591556  ...        -0.061390   \n",
            "1990366432   0.592118  0.593550  0.501846  0.592731  ...        -0.071053   \n",
            "1990366432   0.595503  0.596907  0.503180  0.596161  ...        -0.076400   \n",
            "\n",
            "             z_right_hand_12  z_right_hand_13  z_right_hand_14  \\\n",
            "sequence_id                                                      \n",
            "1990366432         -0.117859        -0.066079        -0.091918   \n",
            "1990366432         -0.082337        -0.046405        -0.069729   \n",
            "1990366432         -0.066228        -0.027084        -0.050595   \n",
            "1990366432         -0.077422        -0.036872        -0.062053   \n",
            "1990366432         -0.081872        -0.038543        -0.071828   \n",
            "\n",
            "             z_right_hand_15  z_right_hand_16  z_right_hand_17  \\\n",
            "sequence_id                                                      \n",
            "1990366432         -0.099247        -0.102749        -0.084254   \n",
            "1990366432         -0.074917        -0.072452        -0.064785   \n",
            "1990366432         -0.057911        -0.055620        -0.044906   \n",
            "1990366432         -0.064318        -0.060228        -0.056508   \n",
            "1990366432         -0.073349        -0.066871        -0.057975   \n",
            "\n",
            "             z_right_hand_18  z_right_hand_19  z_right_hand_20  \n",
            "sequence_id                                                     \n",
            "1990366432         -0.102833        -0.103488        -0.102409  \n",
            "1990366432         -0.081526        -0.081359        -0.076280  \n",
            "1990366432         -0.063157        -0.065100        -0.060411  \n",
            "1990366432         -0.079838        -0.081965        -0.078497  \n",
            "1990366432         -0.089235        -0.089729        -0.083339  \n",
            "\n",
            "[5 rows x 1630 columns]\n",
            "shape of erik hamilton is: (142, 1630)\n"
          ]
        }
      ]
    },
    {
      "cell_type": "markdown",
      "source": [
        "This particular phrase 'erik hamilton' contains 142 entries and 1630 columns"
      ],
      "metadata": {
        "id": "EhuqntqCozR0"
      }
    },
    {
      "cell_type": "code",
      "source": [
        "#Parsing the JSON file into a Python Object\n",
        "\n",
        "# Opening and reading the JSON file\n",
        "with open('character_to_prediction.json', 'r') as file:\n",
        "    char_to_pred = json.load(file)\n",
        "\n",
        "print(char_to_pred)#This is the dictionary we use to encode categorical data to numerical data"
      ],
      "metadata": {
        "colab": {
          "base_uri": "https://localhost:8080/"
        },
        "id": "wrsQIBEp_eYC",
        "outputId": "a643ab96-c14f-43c1-a8c8-b1c97d526bd2"
      },
      "execution_count": 10,
      "outputs": [
        {
          "output_type": "stream",
          "name": "stdout",
          "text": [
            "{' ': 0, '!': 1, '#': 2, '$': 3, '%': 4, '&': 5, \"'\": 6, '(': 7, ')': 8, '*': 9, '+': 10, ',': 11, '-': 12, '.': 13, '/': 14, '0': 15, '1': 16, '2': 17, '3': 18, '4': 19, '5': 20, '6': 21, '7': 22, '8': 23, '9': 24, ':': 25, ';': 26, '=': 27, '?': 28, '@': 29, '[': 30, '_': 31, 'a': 32, 'b': 33, 'c': 34, 'd': 35, 'e': 36, 'f': 37, 'g': 38, 'h': 39, 'i': 40, 'j': 41, 'k': 42, 'l': 43, 'm': 44, 'n': 45, 'o': 46, 'p': 47, 'q': 48, 'r': 49, 's': 50, 't': 51, 'u': 52, 'v': 53, 'w': 54, 'x': 55, 'y': 56, 'z': 57, '~': 58}\n"
          ]
        }
      ]
    },
    {
      "cell_type": "code",
      "source": [
        "#Merging the data to add the label to the landmark data\n",
        "df = df_landmark.merge(metadata_df[['sequence_id', 'phrase']], how='left', left_index=True, right_on='sequence_id')\n",
        "print(df.head())\n",
        "print(f\"shape of merged data is: {df.shape}\")"
      ],
      "metadata": {
        "colab": {
          "base_uri": "https://localhost:8080/"
        },
        "id": "WK_mVdMaDPdM",
        "outputId": "17575693-7764-4ec2-cb49-7005ca470a26"
      },
      "execution_count": 11,
      "outputs": [
        {
          "output_type": "stream",
          "name": "stdout",
          "text": [
            "       frame  x_face_0  x_face_1  x_face_2  x_face_3  x_face_4  x_face_5  \\\n",
            "30259      0  0.578892  0.578482  0.582906  0.572686  0.579030  0.582115   \n",
            "30259      1  0.577563  0.578528  0.582916  0.572760  0.579090  0.582197   \n",
            "30259      2  0.576181  0.576949  0.581346  0.572293  0.577725  0.581191   \n",
            "30259      3  0.575575  0.577569  0.581769  0.572443  0.578289  0.581652   \n",
            "30259      4  0.577907  0.577628  0.582295  0.572930  0.578345  0.581873   \n",
            "\n",
            "       x_face_6  x_face_7  x_face_8  ...  z_right_hand_13  z_right_hand_14  \\\n",
            "30259  0.591430  0.498995  0.595773  ...        -0.123892        -0.195255   \n",
            "30259  0.591687  0.497613  0.596104  ...              NaN              NaN   \n",
            "30259  0.591550  0.497113  0.596477  ...        -0.116145        -0.179053   \n",
            "30259  0.591728  0.496759  0.596573  ...        -0.093956        -0.149982   \n",
            "30259  0.592467  0.498170  0.597383  ...              NaN              NaN   \n",
            "\n",
            "       z_right_hand_15  z_right_hand_16  z_right_hand_17  z_right_hand_18  \\\n",
            "30259        -0.249135        -0.284375        -0.125050        -0.187797   \n",
            "30259              NaN              NaN              NaN              NaN   \n",
            "30259        -0.223861        -0.253004        -0.122090        -0.173169   \n",
            "30259        -0.188452        -0.211573        -0.102759        -0.147642   \n",
            "30259              NaN              NaN              NaN              NaN   \n",
            "\n",
            "       z_right_hand_19  z_right_hand_20  sequence_id       phrase  \n",
            "30259        -0.224827        -0.249662   1975433633  +95-335-395  \n",
            "30259              NaN              NaN   1975433633  +95-335-395  \n",
            "30259        -0.200727        -0.219106   1975433633  +95-335-395  \n",
            "30259        -0.168562        -0.180578   1975433633  +95-335-395  \n",
            "30259              NaN              NaN   1975433633  +95-335-395  \n",
            "\n",
            "[5 rows x 1632 columns]\n",
            "shape of merged data is: (161461, 1632)\n"
          ]
        }
      ]
    },
    {
      "cell_type": "code",
      "source": [
        "#setting sequence_id as index in the combined dataframe\n",
        "df.set_index('sequence_id', inplace=True)\n",
        "print(df.head())"
      ],
      "metadata": {
        "colab": {
          "base_uri": "https://localhost:8080/"
        },
        "id": "VygkfGVC2FhJ",
        "outputId": "a7171c2f-919b-4325-dacc-ffaa6f46dc3d"
      },
      "execution_count": 12,
      "outputs": [
        {
          "output_type": "stream",
          "name": "stdout",
          "text": [
            "             frame  x_face_0  x_face_1  x_face_2  x_face_3  x_face_4  \\\n",
            "sequence_id                                                            \n",
            "1975433633       0  0.578892  0.578482  0.582906  0.572686  0.579030   \n",
            "1975433633       1  0.577563  0.578528  0.582916  0.572760  0.579090   \n",
            "1975433633       2  0.576181  0.576949  0.581346  0.572293  0.577725   \n",
            "1975433633       3  0.575575  0.577569  0.581769  0.572443  0.578289   \n",
            "1975433633       4  0.577907  0.577628  0.582295  0.572930  0.578345   \n",
            "\n",
            "             x_face_5  x_face_6  x_face_7  x_face_8  ...  z_right_hand_12  \\\n",
            "sequence_id                                          ...                    \n",
            "1975433633   0.582115  0.591430  0.498995  0.595773  ...        -0.291687   \n",
            "1975433633   0.582197  0.591687  0.497613  0.596104  ...              NaN   \n",
            "1975433633   0.581191  0.591550  0.497113  0.596477  ...        -0.267114   \n",
            "1975433633   0.581652  0.591728  0.496759  0.596573  ...        -0.218471   \n",
            "1975433633   0.581873  0.592467  0.498170  0.597383  ...              NaN   \n",
            "\n",
            "             z_right_hand_13  z_right_hand_14  z_right_hand_15  \\\n",
            "sequence_id                                                      \n",
            "1975433633         -0.123892        -0.195255        -0.249135   \n",
            "1975433633               NaN              NaN              NaN   \n",
            "1975433633         -0.116145        -0.179053        -0.223861   \n",
            "1975433633         -0.093956        -0.149982        -0.188452   \n",
            "1975433633               NaN              NaN              NaN   \n",
            "\n",
            "             z_right_hand_16  z_right_hand_17  z_right_hand_18  \\\n",
            "sequence_id                                                      \n",
            "1975433633         -0.284375        -0.125050        -0.187797   \n",
            "1975433633               NaN              NaN              NaN   \n",
            "1975433633         -0.253004        -0.122090        -0.173169   \n",
            "1975433633         -0.211573        -0.102759        -0.147642   \n",
            "1975433633               NaN              NaN              NaN   \n",
            "\n",
            "             z_right_hand_19  z_right_hand_20       phrase  \n",
            "sequence_id                                                 \n",
            "1975433633         -0.224827        -0.249662  +95-335-395  \n",
            "1975433633               NaN              NaN  +95-335-395  \n",
            "1975433633         -0.200727        -0.219106  +95-335-395  \n",
            "1975433633         -0.168562        -0.180578  +95-335-395  \n",
            "1975433633               NaN              NaN  +95-335-395  \n",
            "\n",
            "[5 rows x 1631 columns]\n"
          ]
        }
      ]
    },
    {
      "cell_type": "markdown",
      "source": [
        "###Data Preprocessing"
      ],
      "metadata": {
        "id": "X9Twdqg1mjAL"
      }
    },
    {
      "cell_type": "markdown",
      "source": [
        "####Filling NaN values"
      ],
      "metadata": {
        "id": "16ZE7Vytmm8B"
      }
    },
    {
      "cell_type": "code",
      "source": [
        "#Checking if the dataset has NaN values\n",
        "df.isna()"
      ],
      "metadata": {
        "colab": {
          "base_uri": "https://localhost:8080/",
          "height": 0
        },
        "id": "s6H5CaOUGDxx",
        "outputId": "0ed6ba34-e4a1-42f9-fae0-9a1888f98bbb"
      },
      "execution_count": 23,
      "outputs": [
        {
          "output_type": "execute_result",
          "data": {
            "text/plain": [
              "             frame  x_face_0  x_face_1  x_face_2  x_face_3  x_face_4  \\\n",
              "sequence_id                                                            \n",
              "1975433633   False     False     False     False     False     False   \n",
              "1975433633   False     False     False     False     False     False   \n",
              "1975433633   False     False     False     False     False     False   \n",
              "1975433633   False     False     False     False     False     False   \n",
              "1975433633   False     False     False     False     False     False   \n",
              "...            ...       ...       ...       ...       ...       ...   \n",
              "2008677531   False     False     False     False     False     False   \n",
              "2008677531   False     False     False     False     False     False   \n",
              "2008677531   False     False     False     False     False     False   \n",
              "2008677531   False     False     False     False     False     False   \n",
              "2008677531   False     False     False     False     False     False   \n",
              "\n",
              "             x_face_5  x_face_6  x_face_7  x_face_8  ...  z_right_hand_12  \\\n",
              "sequence_id                                          ...                    \n",
              "1975433633      False     False     False     False  ...            False   \n",
              "1975433633      False     False     False     False  ...            False   \n",
              "1975433633      False     False     False     False  ...            False   \n",
              "1975433633      False     False     False     False  ...            False   \n",
              "1975433633      False     False     False     False  ...            False   \n",
              "...               ...       ...       ...       ...  ...              ...   \n",
              "2008677531      False     False     False     False  ...            False   \n",
              "2008677531      False     False     False     False  ...            False   \n",
              "2008677531      False     False     False     False  ...            False   \n",
              "2008677531      False     False     False     False  ...            False   \n",
              "2008677531      False     False     False     False  ...            False   \n",
              "\n",
              "             z_right_hand_13  z_right_hand_14  z_right_hand_15  \\\n",
              "sequence_id                                                      \n",
              "1975433633             False            False            False   \n",
              "1975433633             False            False            False   \n",
              "1975433633             False            False            False   \n",
              "1975433633             False            False            False   \n",
              "1975433633             False            False            False   \n",
              "...                      ...              ...              ...   \n",
              "2008677531             False            False            False   \n",
              "2008677531             False            False            False   \n",
              "2008677531             False            False            False   \n",
              "2008677531             False            False            False   \n",
              "2008677531             False            False            False   \n",
              "\n",
              "             z_right_hand_16  z_right_hand_17  z_right_hand_18  \\\n",
              "sequence_id                                                      \n",
              "1975433633             False            False            False   \n",
              "1975433633             False            False            False   \n",
              "1975433633             False            False            False   \n",
              "1975433633             False            False            False   \n",
              "1975433633             False            False            False   \n",
              "...                      ...              ...              ...   \n",
              "2008677531             False            False            False   \n",
              "2008677531             False            False            False   \n",
              "2008677531             False            False            False   \n",
              "2008677531             False            False            False   \n",
              "2008677531             False            False            False   \n",
              "\n",
              "             z_right_hand_19  z_right_hand_20  phrase  \n",
              "sequence_id                                            \n",
              "1975433633             False            False   False  \n",
              "1975433633             False            False   False  \n",
              "1975433633             False            False   False  \n",
              "1975433633             False            False   False  \n",
              "1975433633             False            False   False  \n",
              "...                      ...              ...     ...  \n",
              "2008677531             False            False   False  \n",
              "2008677531             False            False   False  \n",
              "2008677531             False            False   False  \n",
              "2008677531             False            False   False  \n",
              "2008677531             False            False   False  \n",
              "\n",
              "[161461 rows x 1631 columns]"
            ],
            "text/html": [
              "\n",
              "  <div id=\"df-84fcd65e-8d56-4048-9989-85e81146d052\" class=\"colab-df-container\">\n",
              "    <div>\n",
              "<style scoped>\n",
              "    .dataframe tbody tr th:only-of-type {\n",
              "        vertical-align: middle;\n",
              "    }\n",
              "\n",
              "    .dataframe tbody tr th {\n",
              "        vertical-align: top;\n",
              "    }\n",
              "\n",
              "    .dataframe thead th {\n",
              "        text-align: right;\n",
              "    }\n",
              "</style>\n",
              "<table border=\"1\" class=\"dataframe\">\n",
              "  <thead>\n",
              "    <tr style=\"text-align: right;\">\n",
              "      <th></th>\n",
              "      <th>frame</th>\n",
              "      <th>x_face_0</th>\n",
              "      <th>x_face_1</th>\n",
              "      <th>x_face_2</th>\n",
              "      <th>x_face_3</th>\n",
              "      <th>x_face_4</th>\n",
              "      <th>x_face_5</th>\n",
              "      <th>x_face_6</th>\n",
              "      <th>x_face_7</th>\n",
              "      <th>x_face_8</th>\n",
              "      <th>...</th>\n",
              "      <th>z_right_hand_12</th>\n",
              "      <th>z_right_hand_13</th>\n",
              "      <th>z_right_hand_14</th>\n",
              "      <th>z_right_hand_15</th>\n",
              "      <th>z_right_hand_16</th>\n",
              "      <th>z_right_hand_17</th>\n",
              "      <th>z_right_hand_18</th>\n",
              "      <th>z_right_hand_19</th>\n",
              "      <th>z_right_hand_20</th>\n",
              "      <th>phrase</th>\n",
              "    </tr>\n",
              "    <tr>\n",
              "      <th>sequence_id</th>\n",
              "      <th></th>\n",
              "      <th></th>\n",
              "      <th></th>\n",
              "      <th></th>\n",
              "      <th></th>\n",
              "      <th></th>\n",
              "      <th></th>\n",
              "      <th></th>\n",
              "      <th></th>\n",
              "      <th></th>\n",
              "      <th></th>\n",
              "      <th></th>\n",
              "      <th></th>\n",
              "      <th></th>\n",
              "      <th></th>\n",
              "      <th></th>\n",
              "      <th></th>\n",
              "      <th></th>\n",
              "      <th></th>\n",
              "      <th></th>\n",
              "      <th></th>\n",
              "    </tr>\n",
              "  </thead>\n",
              "  <tbody>\n",
              "    <tr>\n",
              "      <th>1975433633</th>\n",
              "      <td>False</td>\n",
              "      <td>False</td>\n",
              "      <td>False</td>\n",
              "      <td>False</td>\n",
              "      <td>False</td>\n",
              "      <td>False</td>\n",
              "      <td>False</td>\n",
              "      <td>False</td>\n",
              "      <td>False</td>\n",
              "      <td>False</td>\n",
              "      <td>...</td>\n",
              "      <td>False</td>\n",
              "      <td>False</td>\n",
              "      <td>False</td>\n",
              "      <td>False</td>\n",
              "      <td>False</td>\n",
              "      <td>False</td>\n",
              "      <td>False</td>\n",
              "      <td>False</td>\n",
              "      <td>False</td>\n",
              "      <td>False</td>\n",
              "    </tr>\n",
              "    <tr>\n",
              "      <th>1975433633</th>\n",
              "      <td>False</td>\n",
              "      <td>False</td>\n",
              "      <td>False</td>\n",
              "      <td>False</td>\n",
              "      <td>False</td>\n",
              "      <td>False</td>\n",
              "      <td>False</td>\n",
              "      <td>False</td>\n",
              "      <td>False</td>\n",
              "      <td>False</td>\n",
              "      <td>...</td>\n",
              "      <td>False</td>\n",
              "      <td>False</td>\n",
              "      <td>False</td>\n",
              "      <td>False</td>\n",
              "      <td>False</td>\n",
              "      <td>False</td>\n",
              "      <td>False</td>\n",
              "      <td>False</td>\n",
              "      <td>False</td>\n",
              "      <td>False</td>\n",
              "    </tr>\n",
              "    <tr>\n",
              "      <th>1975433633</th>\n",
              "      <td>False</td>\n",
              "      <td>False</td>\n",
              "      <td>False</td>\n",
              "      <td>False</td>\n",
              "      <td>False</td>\n",
              "      <td>False</td>\n",
              "      <td>False</td>\n",
              "      <td>False</td>\n",
              "      <td>False</td>\n",
              "      <td>False</td>\n",
              "      <td>...</td>\n",
              "      <td>False</td>\n",
              "      <td>False</td>\n",
              "      <td>False</td>\n",
              "      <td>False</td>\n",
              "      <td>False</td>\n",
              "      <td>False</td>\n",
              "      <td>False</td>\n",
              "      <td>False</td>\n",
              "      <td>False</td>\n",
              "      <td>False</td>\n",
              "    </tr>\n",
              "    <tr>\n",
              "      <th>1975433633</th>\n",
              "      <td>False</td>\n",
              "      <td>False</td>\n",
              "      <td>False</td>\n",
              "      <td>False</td>\n",
              "      <td>False</td>\n",
              "      <td>False</td>\n",
              "      <td>False</td>\n",
              "      <td>False</td>\n",
              "      <td>False</td>\n",
              "      <td>False</td>\n",
              "      <td>...</td>\n",
              "      <td>False</td>\n",
              "      <td>False</td>\n",
              "      <td>False</td>\n",
              "      <td>False</td>\n",
              "      <td>False</td>\n",
              "      <td>False</td>\n",
              "      <td>False</td>\n",
              "      <td>False</td>\n",
              "      <td>False</td>\n",
              "      <td>False</td>\n",
              "    </tr>\n",
              "    <tr>\n",
              "      <th>1975433633</th>\n",
              "      <td>False</td>\n",
              "      <td>False</td>\n",
              "      <td>False</td>\n",
              "      <td>False</td>\n",
              "      <td>False</td>\n",
              "      <td>False</td>\n",
              "      <td>False</td>\n",
              "      <td>False</td>\n",
              "      <td>False</td>\n",
              "      <td>False</td>\n",
              "      <td>...</td>\n",
              "      <td>False</td>\n",
              "      <td>False</td>\n",
              "      <td>False</td>\n",
              "      <td>False</td>\n",
              "      <td>False</td>\n",
              "      <td>False</td>\n",
              "      <td>False</td>\n",
              "      <td>False</td>\n",
              "      <td>False</td>\n",
              "      <td>False</td>\n",
              "    </tr>\n",
              "    <tr>\n",
              "      <th>...</th>\n",
              "      <td>...</td>\n",
              "      <td>...</td>\n",
              "      <td>...</td>\n",
              "      <td>...</td>\n",
              "      <td>...</td>\n",
              "      <td>...</td>\n",
              "      <td>...</td>\n",
              "      <td>...</td>\n",
              "      <td>...</td>\n",
              "      <td>...</td>\n",
              "      <td>...</td>\n",
              "      <td>...</td>\n",
              "      <td>...</td>\n",
              "      <td>...</td>\n",
              "      <td>...</td>\n",
              "      <td>...</td>\n",
              "      <td>...</td>\n",
              "      <td>...</td>\n",
              "      <td>...</td>\n",
              "      <td>...</td>\n",
              "      <td>...</td>\n",
              "    </tr>\n",
              "    <tr>\n",
              "      <th>2008677531</th>\n",
              "      <td>False</td>\n",
              "      <td>False</td>\n",
              "      <td>False</td>\n",
              "      <td>False</td>\n",
              "      <td>False</td>\n",
              "      <td>False</td>\n",
              "      <td>False</td>\n",
              "      <td>False</td>\n",
              "      <td>False</td>\n",
              "      <td>False</td>\n",
              "      <td>...</td>\n",
              "      <td>False</td>\n",
              "      <td>False</td>\n",
              "      <td>False</td>\n",
              "      <td>False</td>\n",
              "      <td>False</td>\n",
              "      <td>False</td>\n",
              "      <td>False</td>\n",
              "      <td>False</td>\n",
              "      <td>False</td>\n",
              "      <td>False</td>\n",
              "    </tr>\n",
              "    <tr>\n",
              "      <th>2008677531</th>\n",
              "      <td>False</td>\n",
              "      <td>False</td>\n",
              "      <td>False</td>\n",
              "      <td>False</td>\n",
              "      <td>False</td>\n",
              "      <td>False</td>\n",
              "      <td>False</td>\n",
              "      <td>False</td>\n",
              "      <td>False</td>\n",
              "      <td>False</td>\n",
              "      <td>...</td>\n",
              "      <td>False</td>\n",
              "      <td>False</td>\n",
              "      <td>False</td>\n",
              "      <td>False</td>\n",
              "      <td>False</td>\n",
              "      <td>False</td>\n",
              "      <td>False</td>\n",
              "      <td>False</td>\n",
              "      <td>False</td>\n",
              "      <td>False</td>\n",
              "    </tr>\n",
              "    <tr>\n",
              "      <th>2008677531</th>\n",
              "      <td>False</td>\n",
              "      <td>False</td>\n",
              "      <td>False</td>\n",
              "      <td>False</td>\n",
              "      <td>False</td>\n",
              "      <td>False</td>\n",
              "      <td>False</td>\n",
              "      <td>False</td>\n",
              "      <td>False</td>\n",
              "      <td>False</td>\n",
              "      <td>...</td>\n",
              "      <td>False</td>\n",
              "      <td>False</td>\n",
              "      <td>False</td>\n",
              "      <td>False</td>\n",
              "      <td>False</td>\n",
              "      <td>False</td>\n",
              "      <td>False</td>\n",
              "      <td>False</td>\n",
              "      <td>False</td>\n",
              "      <td>False</td>\n",
              "    </tr>\n",
              "    <tr>\n",
              "      <th>2008677531</th>\n",
              "      <td>False</td>\n",
              "      <td>False</td>\n",
              "      <td>False</td>\n",
              "      <td>False</td>\n",
              "      <td>False</td>\n",
              "      <td>False</td>\n",
              "      <td>False</td>\n",
              "      <td>False</td>\n",
              "      <td>False</td>\n",
              "      <td>False</td>\n",
              "      <td>...</td>\n",
              "      <td>False</td>\n",
              "      <td>False</td>\n",
              "      <td>False</td>\n",
              "      <td>False</td>\n",
              "      <td>False</td>\n",
              "      <td>False</td>\n",
              "      <td>False</td>\n",
              "      <td>False</td>\n",
              "      <td>False</td>\n",
              "      <td>False</td>\n",
              "    </tr>\n",
              "    <tr>\n",
              "      <th>2008677531</th>\n",
              "      <td>False</td>\n",
              "      <td>False</td>\n",
              "      <td>False</td>\n",
              "      <td>False</td>\n",
              "      <td>False</td>\n",
              "      <td>False</td>\n",
              "      <td>False</td>\n",
              "      <td>False</td>\n",
              "      <td>False</td>\n",
              "      <td>False</td>\n",
              "      <td>...</td>\n",
              "      <td>False</td>\n",
              "      <td>False</td>\n",
              "      <td>False</td>\n",
              "      <td>False</td>\n",
              "      <td>False</td>\n",
              "      <td>False</td>\n",
              "      <td>False</td>\n",
              "      <td>False</td>\n",
              "      <td>False</td>\n",
              "      <td>False</td>\n",
              "    </tr>\n",
              "  </tbody>\n",
              "</table>\n",
              "<p>161461 rows × 1631 columns</p>\n",
              "</div>\n",
              "    <div class=\"colab-df-buttons\">\n",
              "\n",
              "  <div class=\"colab-df-container\">\n",
              "    <button class=\"colab-df-convert\" onclick=\"convertToInteractive('df-84fcd65e-8d56-4048-9989-85e81146d052')\"\n",
              "            title=\"Convert this dataframe to an interactive table.\"\n",
              "            style=\"display:none;\">\n",
              "\n",
              "  <svg xmlns=\"http://www.w3.org/2000/svg\" height=\"24px\" viewBox=\"0 -960 960 960\">\n",
              "    <path d=\"M120-120v-720h720v720H120Zm60-500h600v-160H180v160Zm220 220h160v-160H400v160Zm0 220h160v-160H400v160ZM180-400h160v-160H180v160Zm440 0h160v-160H620v160ZM180-180h160v-160H180v160Zm440 0h160v-160H620v160Z\"/>\n",
              "  </svg>\n",
              "    </button>\n",
              "\n",
              "  <style>\n",
              "    .colab-df-container {\n",
              "      display:flex;\n",
              "      gap: 12px;\n",
              "    }\n",
              "\n",
              "    .colab-df-convert {\n",
              "      background-color: #E8F0FE;\n",
              "      border: none;\n",
              "      border-radius: 50%;\n",
              "      cursor: pointer;\n",
              "      display: none;\n",
              "      fill: #1967D2;\n",
              "      height: 32px;\n",
              "      padding: 0 0 0 0;\n",
              "      width: 32px;\n",
              "    }\n",
              "\n",
              "    .colab-df-convert:hover {\n",
              "      background-color: #E2EBFA;\n",
              "      box-shadow: 0px 1px 2px rgba(60, 64, 67, 0.3), 0px 1px 3px 1px rgba(60, 64, 67, 0.15);\n",
              "      fill: #174EA6;\n",
              "    }\n",
              "\n",
              "    .colab-df-buttons div {\n",
              "      margin-bottom: 4px;\n",
              "    }\n",
              "\n",
              "    [theme=dark] .colab-df-convert {\n",
              "      background-color: #3B4455;\n",
              "      fill: #D2E3FC;\n",
              "    }\n",
              "\n",
              "    [theme=dark] .colab-df-convert:hover {\n",
              "      background-color: #434B5C;\n",
              "      box-shadow: 0px 1px 3px 1px rgba(0, 0, 0, 0.15);\n",
              "      filter: drop-shadow(0px 1px 2px rgba(0, 0, 0, 0.3));\n",
              "      fill: #FFFFFF;\n",
              "    }\n",
              "  </style>\n",
              "\n",
              "    <script>\n",
              "      const buttonEl =\n",
              "        document.querySelector('#df-84fcd65e-8d56-4048-9989-85e81146d052 button.colab-df-convert');\n",
              "      buttonEl.style.display =\n",
              "        google.colab.kernel.accessAllowed ? 'block' : 'none';\n",
              "\n",
              "      async function convertToInteractive(key) {\n",
              "        const element = document.querySelector('#df-84fcd65e-8d56-4048-9989-85e81146d052');\n",
              "        const dataTable =\n",
              "          await google.colab.kernel.invokeFunction('convertToInteractive',\n",
              "                                                    [key], {});\n",
              "        if (!dataTable) return;\n",
              "\n",
              "        const docLinkHtml = 'Like what you see? Visit the ' +\n",
              "          '<a target=\"_blank\" href=https://colab.research.google.com/notebooks/data_table.ipynb>data table notebook</a>'\n",
              "          + ' to learn more about interactive tables.';\n",
              "        element.innerHTML = '';\n",
              "        dataTable['output_type'] = 'display_data';\n",
              "        await google.colab.output.renderOutput(dataTable, element);\n",
              "        const docLink = document.createElement('div');\n",
              "        docLink.innerHTML = docLinkHtml;\n",
              "        element.appendChild(docLink);\n",
              "      }\n",
              "    </script>\n",
              "  </div>\n",
              "\n",
              "\n",
              "<div id=\"df-f54ac1a3-06c4-4e56-af0b-3a0d2386950d\">\n",
              "  <button class=\"colab-df-quickchart\" onclick=\"quickchart('df-f54ac1a3-06c4-4e56-af0b-3a0d2386950d')\"\n",
              "            title=\"Suggest charts\"\n",
              "            style=\"display:none;\">\n",
              "\n",
              "<svg xmlns=\"http://www.w3.org/2000/svg\" height=\"24px\"viewBox=\"0 0 24 24\"\n",
              "     width=\"24px\">\n",
              "    <g>\n",
              "        <path d=\"M19 3H5c-1.1 0-2 .9-2 2v14c0 1.1.9 2 2 2h14c1.1 0 2-.9 2-2V5c0-1.1-.9-2-2-2zM9 17H7v-7h2v7zm4 0h-2V7h2v10zm4 0h-2v-4h2v4z\"/>\n",
              "    </g>\n",
              "</svg>\n",
              "  </button>\n",
              "\n",
              "<style>\n",
              "  .colab-df-quickchart {\n",
              "      --bg-color: #E8F0FE;\n",
              "      --fill-color: #1967D2;\n",
              "      --hover-bg-color: #E2EBFA;\n",
              "      --hover-fill-color: #174EA6;\n",
              "      --disabled-fill-color: #AAA;\n",
              "      --disabled-bg-color: #DDD;\n",
              "  }\n",
              "\n",
              "  [theme=dark] .colab-df-quickchart {\n",
              "      --bg-color: #3B4455;\n",
              "      --fill-color: #D2E3FC;\n",
              "      --hover-bg-color: #434B5C;\n",
              "      --hover-fill-color: #FFFFFF;\n",
              "      --disabled-bg-color: #3B4455;\n",
              "      --disabled-fill-color: #666;\n",
              "  }\n",
              "\n",
              "  .colab-df-quickchart {\n",
              "    background-color: var(--bg-color);\n",
              "    border: none;\n",
              "    border-radius: 50%;\n",
              "    cursor: pointer;\n",
              "    display: none;\n",
              "    fill: var(--fill-color);\n",
              "    height: 32px;\n",
              "    padding: 0;\n",
              "    width: 32px;\n",
              "  }\n",
              "\n",
              "  .colab-df-quickchart:hover {\n",
              "    background-color: var(--hover-bg-color);\n",
              "    box-shadow: 0 1px 2px rgba(60, 64, 67, 0.3), 0 1px 3px 1px rgba(60, 64, 67, 0.15);\n",
              "    fill: var(--button-hover-fill-color);\n",
              "  }\n",
              "\n",
              "  .colab-df-quickchart-complete:disabled,\n",
              "  .colab-df-quickchart-complete:disabled:hover {\n",
              "    background-color: var(--disabled-bg-color);\n",
              "    fill: var(--disabled-fill-color);\n",
              "    box-shadow: none;\n",
              "  }\n",
              "\n",
              "  .colab-df-spinner {\n",
              "    border: 2px solid var(--fill-color);\n",
              "    border-color: transparent;\n",
              "    border-bottom-color: var(--fill-color);\n",
              "    animation:\n",
              "      spin 1s steps(1) infinite;\n",
              "  }\n",
              "\n",
              "  @keyframes spin {\n",
              "    0% {\n",
              "      border-color: transparent;\n",
              "      border-bottom-color: var(--fill-color);\n",
              "      border-left-color: var(--fill-color);\n",
              "    }\n",
              "    20% {\n",
              "      border-color: transparent;\n",
              "      border-left-color: var(--fill-color);\n",
              "      border-top-color: var(--fill-color);\n",
              "    }\n",
              "    30% {\n",
              "      border-color: transparent;\n",
              "      border-left-color: var(--fill-color);\n",
              "      border-top-color: var(--fill-color);\n",
              "      border-right-color: var(--fill-color);\n",
              "    }\n",
              "    40% {\n",
              "      border-color: transparent;\n",
              "      border-right-color: var(--fill-color);\n",
              "      border-top-color: var(--fill-color);\n",
              "    }\n",
              "    60% {\n",
              "      border-color: transparent;\n",
              "      border-right-color: var(--fill-color);\n",
              "    }\n",
              "    80% {\n",
              "      border-color: transparent;\n",
              "      border-right-color: var(--fill-color);\n",
              "      border-bottom-color: var(--fill-color);\n",
              "    }\n",
              "    90% {\n",
              "      border-color: transparent;\n",
              "      border-bottom-color: var(--fill-color);\n",
              "    }\n",
              "  }\n",
              "</style>\n",
              "\n",
              "  <script>\n",
              "    async function quickchart(key) {\n",
              "      const quickchartButtonEl =\n",
              "        document.querySelector('#' + key + ' button');\n",
              "      quickchartButtonEl.disabled = true;  // To prevent multiple clicks.\n",
              "      quickchartButtonEl.classList.add('colab-df-spinner');\n",
              "      try {\n",
              "        const charts = await google.colab.kernel.invokeFunction(\n",
              "            'suggestCharts', [key], {});\n",
              "      } catch (error) {\n",
              "        console.error('Error during call to suggestCharts:', error);\n",
              "      }\n",
              "      quickchartButtonEl.classList.remove('colab-df-spinner');\n",
              "      quickchartButtonEl.classList.add('colab-df-quickchart-complete');\n",
              "    }\n",
              "    (() => {\n",
              "      let quickchartButtonEl =\n",
              "        document.querySelector('#df-f54ac1a3-06c4-4e56-af0b-3a0d2386950d button');\n",
              "      quickchartButtonEl.style.display =\n",
              "        google.colab.kernel.accessAllowed ? 'block' : 'none';\n",
              "    })();\n",
              "  </script>\n",
              "</div>\n",
              "\n",
              "    </div>\n",
              "  </div>\n"
            ]
          },
          "metadata": {},
          "execution_count": 23
        }
      ]
    },
    {
      "cell_type": "code",
      "source": [
        "#Filling the NaN values with 0\n",
        "df = df.fillna(0)"
      ],
      "metadata": {
        "id": "BJqUDtf-FMcL"
      },
      "execution_count": 24,
      "outputs": []
    },
    {
      "cell_type": "code",
      "source": [
        "#Confirming there are no NaN values present\n",
        "df.isna().sum()"
      ],
      "metadata": {
        "colab": {
          "base_uri": "https://localhost:8080/"
        },
        "id": "_2DF3gjjz2PG",
        "outputId": "227f3260-c7d7-463e-cd26-d7e9fda1121c"
      },
      "execution_count": 25,
      "outputs": [
        {
          "output_type": "execute_result",
          "data": {
            "text/plain": [
              "frame              0\n",
              "x_face_0           0\n",
              "x_face_1           0\n",
              "x_face_2           0\n",
              "x_face_3           0\n",
              "                  ..\n",
              "z_right_hand_17    0\n",
              "z_right_hand_18    0\n",
              "z_right_hand_19    0\n",
              "z_right_hand_20    0\n",
              "phrase             0\n",
              "Length: 1631, dtype: int64"
            ]
          },
          "metadata": {},
          "execution_count": 25
        }
      ]
    },
    {
      "cell_type": "markdown",
      "source": [
        "####Normalising Data"
      ],
      "metadata": {
        "id": "Q8s5_AROmuiv"
      }
    },
    {
      "cell_type": "code",
      "source": [
        "# Initializing StandardScaler\n",
        "scaler = StandardScaler()\n",
        "\n",
        "# Creating a list to hold the normalized features for each sequence\n",
        "normalized_features = []\n",
        "\n",
        "# Grouping the data by 'sequence_id' index\n",
        "for sequence_id, group in df.groupby(level=0):\n",
        "\n",
        "    # Sorting the group by the 'frame' column to ensure the correct temporal order\n",
        "    group_sorted = group.sort_values(by='frame')\n",
        "\n",
        "    # Extracting features from the sorted group, excluding the 'frame' and 'phrase' columns\n",
        "    features = group_sorted.drop(columns=['frame', 'phrase'], errors='ignore').values\n",
        "\n",
        "    # Normalizing the features\n",
        "    normalized_features.append(scaler.fit_transform(features))"
      ],
      "metadata": {
        "id": "mJ_cuTF9tHsp"
      },
      "execution_count": 26,
      "outputs": []
    },
    {
      "cell_type": "markdown",
      "source": [
        "####Padding Features"
      ],
      "metadata": {
        "id": "__w8QzsFnXLD"
      }
    },
    {
      "cell_type": "code",
      "source": [
        "# Determining the maximum sequence length\n",
        "max_feature_sequence_length = max(len(sequence) for sequence in normalized_features)\n",
        "print(f\"Maximum sequence length of features is: {max_feature_sequence_length}\")\n",
        "\n",
        "# Padding the feature sequences\n",
        "padded_features = pad_sequences(normalized_features, maxlen=max_feature_sequence_length, padding='post', dtype='float32')\n"
      ],
      "metadata": {
        "colab": {
          "base_uri": "https://localhost:8080/"
        },
        "id": "WvHdU8xxPAZy",
        "outputId": "eafbb397-e4dd-4702-8179-a4ce4b4171fb"
      },
      "execution_count": 27,
      "outputs": [
        {
          "output_type": "stream",
          "name": "stdout",
          "text": [
            "Maximum sequence length of features is: 751\n"
          ]
        }
      ]
    },
    {
      "cell_type": "markdown",
      "source": [
        "####Padding and Encoding Labels"
      ],
      "metadata": {
        "id": "6-6n2eDrnfoo"
      }
    },
    {
      "cell_type": "code",
      "source": [
        "# Grouping by 'sequence_id' and selecting the last 'phrase' of each group\n",
        "labels_df = df.groupby(level=0)['phrase'].last()\n",
        "print(labels_df.head())"
      ],
      "metadata": {
        "colab": {
          "base_uri": "https://localhost:8080/"
        },
        "id": "-a3GwV5OpEx9",
        "outputId": "1259f8c2-c697-4bda-fc52-6936d957ff73"
      },
      "execution_count": 28,
      "outputs": [
        {
          "output_type": "stream",
          "name": "stdout",
          "text": [
            "sequence_id\n",
            "1975433633                +95-335-395\n",
            "1975473601         bugs.launchpad.net\n",
            "1975502450    mirandasphysiosteps.com\n",
            "1975521182          5 endeavor circle\n",
            "1975541698               +44-4560-846\n",
            "Name: phrase, dtype: object\n"
          ]
        }
      ]
    },
    {
      "cell_type": "code",
      "source": [
        "# Resetting the index\n",
        "labels_df = labels_df.reset_index()\n",
        "# Converting phrases to sequence of integers using char_to_pred\n",
        "label_sequences = [[char_to_pred[char] for char in phrase] for phrase in labels_df['phrase']]"
      ],
      "metadata": {
        "id": "cXQIzNxJtDt5"
      },
      "execution_count": 29,
      "outputs": []
    },
    {
      "cell_type": "code",
      "source": [
        "# Calculating the maximum length of the sequences\n",
        "max_sequence_length = max(len(sequence) for sequence in label_sequences)\n",
        "print(f\"Maximum sequence length of phrase is: {max_sequence_length}\")\n",
        "\n",
        "# Padding the sequence labels\n",
        "padded_label_sequences = pad_sequences(label_sequences, maxlen=max_sequence_length, padding='post')\n",
        "print(f\"Shape of the padded label sequences is: {padded_label_sequences.shape}\")"
      ],
      "metadata": {
        "id": "MJPs2nQ7tKHT",
        "colab": {
          "base_uri": "https://localhost:8080/"
        },
        "outputId": "fb672f16-90b0-4090-aec8-9f0af76e5211"
      },
      "execution_count": 30,
      "outputs": [
        {
          "output_type": "stream",
          "name": "stdout",
          "text": [
            "Maximum sequence length of phrase is: 30\n",
            "Shape of the padded label sequences is: (998, 30)\n"
          ]
        }
      ]
    },
    {
      "cell_type": "code",
      "source": [
        "#Accounting for padding by adding 1 to the length\n",
        "num_classes = len(char_to_pred) + 1\n",
        "print(f\"The number of classes is: {num_classes}\")\n",
        "\n",
        "#One-hot encoding the last label of each sequence for a many-to-one setup\n",
        "last_label_indices = padded_label_sequences[:, -1]  # This gets the last label index for each sequence\n",
        "one_hot_labels = to_categorical(last_label_indices, num_classes=num_classes)\n",
        "\n",
        "# Checking the shape of the one-hot encoded labels\n",
        "print(f\"Shape of the One-Hot Encoded labels is: {one_hot_labels.shape}\")\n"
      ],
      "metadata": {
        "colab": {
          "base_uri": "https://localhost:8080/"
        },
        "id": "lqTj4wQcKsH6",
        "outputId": "46a6891a-6c1a-4ff7-a46b-faaa5fb4a45d"
      },
      "execution_count": 31,
      "outputs": [
        {
          "output_type": "stream",
          "name": "stdout",
          "text": [
            "The number of classes is: 60\n",
            "Shape of the One-Hot Encoded labels is: (998, 60)\n"
          ]
        }
      ]
    },
    {
      "cell_type": "code",
      "source": [
        "print(\"Shape of padded_features:\", padded_features.shape)\n",
        "print(\"Shape of one_hot_labels:\", one_hot_labels.shape)"
      ],
      "metadata": {
        "colab": {
          "base_uri": "https://localhost:8080/"
        },
        "id": "Q0YGw8rD0qsO",
        "outputId": "be011ec8-72e6-4625-b54b-4b18d5e9dacb"
      },
      "execution_count": 32,
      "outputs": [
        {
          "output_type": "stream",
          "name": "stdout",
          "text": [
            "Shape of padded_features: (998, 751, 1629)\n",
            "Shape of one_hot_labels: (998, 60)\n"
          ]
        }
      ]
    },
    {
      "cell_type": "markdown",
      "source": [
        "###Splitting Data"
      ],
      "metadata": {
        "id": "WpDN8QkonmOb"
      }
    },
    {
      "cell_type": "code",
      "source": [
        "# Splitting into training and remaining datas\n",
        "X_train, X_temp, y_train, y_temp = train_test_split(padded_features, one_hot_labels, test_size=0.4, random_state=42)\n",
        "\n",
        "# Split the temp data into validation and test sets\n",
        "X_val, X_test, y_val, y_test = train_test_split(X_temp, y_temp, test_size=0.5, random_state=42)\n"
      ],
      "metadata": {
        "id": "wQSkKVYdx7Yd"
      },
      "execution_count": 33,
      "outputs": []
    },
    {
      "cell_type": "markdown",
      "source": [
        "###Data Modeling"
      ],
      "metadata": {
        "id": "7Ndm3T-unqYz"
      }
    },
    {
      "cell_type": "markdown",
      "source": [
        "####LSTM Model"
      ],
      "metadata": {
        "id": "ixDYSqDXnxSh"
      }
    },
    {
      "cell_type": "code",
      "source": [
        "# Defining the LSTM model\n",
        "lstm_model = Sequential()\n",
        "\n",
        "# Adding the first LSTM layer\n",
        "lstm_model.add(LSTM(units=128, return_sequences=True, input_shape=(751, 1629)))\n",
        "\n",
        "# Adding a dropout layer for regularization\n",
        "lstm_model.add(Dropout(0.2))\n",
        "\n",
        "# Adding another LSTM layer, return_sequences is False to return only the last output for the sequence\n",
        "lstm_model.add(LSTM(units=128))\n",
        "\n",
        "# Adding another dropout layer\n",
        "lstm_model.add(Dropout(0.2))\n",
        "\n",
        "# Output layer with 'softmax' activation, units equal to the number of classes (60)\n",
        "lstm_model.add(Dense(units=60, activation='softmax'))"
      ],
      "metadata": {
        "id": "HE2wdJx2CaEH"
      },
      "execution_count": 34,
      "outputs": []
    },
    {
      "cell_type": "code",
      "source": [
        "# Early stopping callback\n",
        "#early_stopping = EarlyStopping(monitor='val_loss', patience=3)\n",
        "\n",
        "# Model checkpoint callback\n",
        "#lstm_model_checkpoint= ModelCheckpoint('lstm_model.h5', monitor='val_loss', save_best_only=True)\n",
        "\n",
        "# Compiling the model\n",
        "lstm_model.compile(optimizer='adam', loss='categorical_crossentropy', metrics=['accuracy'])\n",
        "\n",
        "# Printing the model summary\n",
        "lstm_model.summary()"
      ],
      "metadata": {
        "colab": {
          "base_uri": "https://localhost:8080/"
        },
        "id": "Q9JRUiWAC2w5",
        "outputId": "9776cfa6-b180-4388-aa53-6315d6314d77"
      },
      "execution_count": 35,
      "outputs": [
        {
          "output_type": "stream",
          "name": "stdout",
          "text": [
            "Model: \"sequential\"\n",
            "_________________________________________________________________\n",
            " Layer (type)                Output Shape              Param #   \n",
            "=================================================================\n",
            " lstm (LSTM)                 (None, 751, 128)          900096    \n",
            "                                                                 \n",
            " dropout (Dropout)           (None, 751, 128)          0         \n",
            "                                                                 \n",
            " lstm_1 (LSTM)               (None, 128)               131584    \n",
            "                                                                 \n",
            " dropout_1 (Dropout)         (None, 128)               0         \n",
            "                                                                 \n",
            " dense (Dense)               (None, 60)                7740      \n",
            "                                                                 \n",
            "=================================================================\n",
            "Total params: 1039420 (3.97 MB)\n",
            "Trainable params: 1039420 (3.97 MB)\n",
            "Non-trainable params: 0 (0.00 Byte)\n",
            "_________________________________________________________________\n"
          ]
        }
      ]
    },
    {
      "cell_type": "code",
      "source": [
        "#Training the model\n",
        "history_lstm = lstm_model.fit(X_train, y_train, epochs=10, batch_size=32, validation_data=(X_val, y_val), verbose = 2)"
      ],
      "metadata": {
        "colab": {
          "base_uri": "https://localhost:8080/"
        },
        "id": "3AOeRr9ZDPS8",
        "outputId": "6ca50738-bb9f-435c-e30b-9a3d23287556"
      },
      "execution_count": 36,
      "outputs": [
        {
          "output_type": "stream",
          "name": "stdout",
          "text": [
            "Epoch 1/10\n",
            "19/19 - 45s - loss: 2.3209 - accuracy: 0.8980 - val_loss: 2.6182 - val_accuracy: 0.6150 - 45s/epoch - 2s/step\n",
            "Epoch 2/10\n",
            "19/19 - 38s - loss: 1.1073 - accuracy: 0.8278 - val_loss: 0.2342 - val_accuracy: 0.9750 - 38s/epoch - 2s/step\n",
            "Epoch 3/10\n",
            "19/19 - 37s - loss: 0.2276 - accuracy: 0.9749 - val_loss: 0.2117 - val_accuracy: 0.9750 - 37s/epoch - 2s/step\n",
            "Epoch 4/10\n",
            "19/19 - 38s - loss: 0.1926 - accuracy: 0.9749 - val_loss: 0.2140 - val_accuracy: 0.9750 - 38s/epoch - 2s/step\n",
            "Epoch 5/10\n",
            "19/19 - 37s - loss: 0.1917 - accuracy: 0.9749 - val_loss: 0.2181 - val_accuracy: 0.9750 - 37s/epoch - 2s/step\n",
            "Epoch 6/10\n",
            "19/19 - 37s - loss: 0.1925 - accuracy: 0.9749 - val_loss: 0.2238 - val_accuracy: 0.9750 - 37s/epoch - 2s/step\n",
            "Epoch 7/10\n",
            "19/19 - 37s - loss: 0.1894 - accuracy: 0.9749 - val_loss: 0.2296 - val_accuracy: 0.9750 - 37s/epoch - 2s/step\n",
            "Epoch 8/10\n",
            "19/19 - 37s - loss: 0.1834 - accuracy: 0.9749 - val_loss: 0.2323 - val_accuracy: 0.9750 - 37s/epoch - 2s/step\n",
            "Epoch 9/10\n",
            "19/19 - 37s - loss: 0.1812 - accuracy: 0.9749 - val_loss: 0.2358 - val_accuracy: 0.9750 - 37s/epoch - 2s/step\n",
            "Epoch 10/10\n",
            "19/19 - 37s - loss: 0.1772 - accuracy: 0.9749 - val_loss: 0.2386 - val_accuracy: 0.9750 - 37s/epoch - 2s/step\n"
          ]
        }
      ]
    },
    {
      "cell_type": "code",
      "source": [
        "# Generating predictions for the test set\n",
        "y_pred_lstm = lstm_model.predict(X_test)\n",
        "\n",
        "# Convert predictions to class labels\n",
        "y_pred_lstm_classes = np.argmax(y_pred_lstm, axis=1)\n",
        "\n",
        "# Convert one-hot encoded test labels back to class labels\n",
        "y_test_classes = np.argmax(y_test, axis=1)\n",
        "\n",
        "# Calculate accuracy\n",
        "test_accuracy_lstm = accuracy_score(y_test_classes, y_pred_lstm_classes)\n",
        "\n",
        "print(f\"Accuracy: {test_accuracy_lstm}\")"
      ],
      "metadata": {
        "colab": {
          "base_uri": "https://localhost:8080/"
        },
        "id": "l_sHohE9DXD4",
        "outputId": "748c06a3-180c-426b-d4e6-18521ed76d56"
      },
      "execution_count": 37,
      "outputs": [
        {
          "output_type": "stream",
          "name": "stdout",
          "text": [
            "7/7 [==============================] - 6s 650ms/step\n",
            "Accuracy: 0.985\n"
          ]
        }
      ]
    },
    {
      "cell_type": "code",
      "source": [
        "# Assuming 'history' is the output from the model.fit() method\n",
        "history_dict_lstm = history_lstm.history\n",
        "\n",
        "# Plotting training and validation loss\n",
        "plt.figure(figsize=(12, 6))\n",
        "\n",
        "plt.plot(history_dict_lstm['loss'], label='Training Loss')\n",
        "plt.plot(history_dict_lstm['val_loss'], label='Validation Loss')\n",
        "plt.title('Training and Validation Loss of LSTM Model')\n",
        "plt.xlabel('Epochs')\n",
        "plt.ylabel('Loss')\n",
        "plt.legend()\n",
        "\n",
        "plt.show()\n"
      ],
      "metadata": {
        "colab": {
          "base_uri": "https://localhost:8080/",
          "height": 564
        },
        "id": "gQWU-aw1Lfvd",
        "outputId": "39fbeee5-f71a-450d-8a71-07054e3e5c39"
      },
      "execution_count": 39,
      "outputs": [
        {
          "output_type": "display_data",
          "data": {
            "text/plain": [
              "<Figure size 1200x600 with 1 Axes>"
            ],
            "image/png": "[encoded data removed]"
          },
          "metadata": {}
        }
      ]
    },
    {
      "cell_type": "markdown",
      "source": [
        "####GRU Model"
      ],
      "metadata": {
        "id": "IIyMNs_On3xJ"
      }
    },
    {
      "cell_type": "code",
      "source": [
        "#GRU Model Architecture\n",
        "def create_gru_model():\n",
        "    model = Sequential()\n",
        "    model.add(GRU(units=128, return_sequences=True, input_shape=(751, 1629)))\n",
        "    model.add(GRU(units=128))\n",
        "    model.add(Dense(60, activation='softmax'))  # 60 classes\n",
        "    model.compile(optimizer='adam', loss='categorical_crossentropy', metrics=['accuracy'])\n",
        "    return model\n",
        "\n",
        "#Creating the model\n",
        "gru_model = create_gru_model()\n",
        "\n",
        "# Model summary\n",
        "gru_model.summary()\n"
      ],
      "metadata": {
        "colab": {
          "base_uri": "https://localhost:8080/"
        },
        "id": "1_JqsQPwsWND",
        "outputId": "642e5f69-8fbd-40ef-9312-6ea24920fe21"
      },
      "execution_count": 40,
      "outputs": [
        {
          "output_type": "stream",
          "name": "stdout",
          "text": [
            "Model: \"sequential_1\"\n",
            "_________________________________________________________________\n",
            " Layer (type)                Output Shape              Param #   \n",
            "=================================================================\n",
            " gru (GRU)                   (None, 751, 128)          675456    \n",
            "                                                                 \n",
            " gru_1 (GRU)                 (None, 128)               99072     \n",
            "                                                                 \n",
            " dense_1 (Dense)             (None, 60)                7740      \n",
            "                                                                 \n",
            "=================================================================\n",
            "Total params: 782268 (2.98 MB)\n",
            "Trainable params: 782268 (2.98 MB)\n",
            "Non-trainable params: 0 (0.00 Byte)\n",
            "_________________________________________________________________\n"
          ]
        }
      ]
    },
    {
      "cell_type": "code",
      "source": [
        "# Early stopping callback\n",
        "#early_stopping = EarlyStopping(monitor='val_loss', patience=3)\n",
        "\n",
        "# Model checkpoint callback\n",
        "#gru_model_checkpoint = ModelCheckpoint('gru_model.h5', monitor='val_loss', save_best_only=True)\n",
        "\n",
        "#Compiling the model\n",
        "gru_model.compile(optimizer='adam', loss='categorical_crossentropy', metrics=['accuracy'])\n",
        "\n",
        "#Training the model\n",
        "history_gru = gru_model.fit(X_train, y_train, epochs=10, batch_size=32, validation_data=(X_val, y_val), verbose = 2)"
      ],
      "metadata": {
        "colab": {
          "base_uri": "https://localhost:8080/"
        },
        "id": "v_aBrzfgtRwq",
        "outputId": "6ca5416c-d90f-46b5-f95d-02b48db87941"
      },
      "execution_count": 41,
      "outputs": [
        {
          "output_type": "stream",
          "name": "stdout",
          "text": [
            "Epoch 1/10\n",
            "19/19 - 35s - loss: 2.3308 - accuracy: 0.9749 - val_loss: 0.3273 - val_accuracy: 0.9750 - 35s/epoch - 2s/step\n",
            "Epoch 2/10\n",
            "19/19 - 28s - loss: 0.3538 - accuracy: 0.9749 - val_loss: 0.3243 - val_accuracy: 0.9750 - 28s/epoch - 1s/step\n",
            "Epoch 3/10\n",
            "19/19 - 27s - loss: 0.3114 - accuracy: 0.9749 - val_loss: 0.2835 - val_accuracy: 0.9750 - 27s/epoch - 1s/step\n",
            "Epoch 4/10\n",
            "19/19 - 28s - loss: 0.2541 - accuracy: 0.9749 - val_loss: 0.2245 - val_accuracy: 0.9750 - 28s/epoch - 1s/step\n",
            "Epoch 5/10\n",
            "19/19 - 28s - loss: 0.2036 - accuracy: 0.9749 - val_loss: 0.2063 - val_accuracy: 0.9750 - 28s/epoch - 1s/step\n",
            "Epoch 6/10\n",
            "19/19 - 28s - loss: 0.1855 - accuracy: 0.9749 - val_loss: 0.2128 - val_accuracy: 0.9750 - 28s/epoch - 1s/step\n",
            "Epoch 7/10\n",
            "19/19 - 28s - loss: 0.1827 - accuracy: 0.9749 - val_loss: 0.2207 - val_accuracy: 0.9750 - 28s/epoch - 1s/step\n",
            "Epoch 8/10\n",
            "19/19 - 28s - loss: 0.1809 - accuracy: 0.9749 - val_loss: 0.2256 - val_accuracy: 0.9750 - 28s/epoch - 1s/step\n",
            "Epoch 9/10\n",
            "19/19 - 28s - loss: 0.1788 - accuracy: 0.9749 - val_loss: 0.2288 - val_accuracy: 0.9750 - 28s/epoch - 1s/step\n",
            "Epoch 10/10\n",
            "19/19 - 27s - loss: 0.1779 - accuracy: 0.9749 - val_loss: 0.2351 - val_accuracy: 0.9750 - 27s/epoch - 1s/step\n"
          ]
        }
      ]
    },
    {
      "cell_type": "code",
      "source": [
        "# Generating predictions for the test set\n",
        "y_pred_gru = gru_model.predict(X_test)\n",
        "\n",
        "# Convert predictions to class labels\n",
        "y_pred_gru_classes = np.argmax(y_pred_gru, axis=1)\n",
        "\n",
        "# Convert one-hot encoded test labels back to class labels\n",
        "y_test_classes = np.argmax(y_test, axis=1)\n",
        "\n",
        "# Calculate accuracy\n",
        "test_accuracy_gru = accuracy_score(y_test_classes, y_pred_gru_classes)\n",
        "\n",
        "print(f\"Accuracy: {test_accuracy_gru}\")"
      ],
      "metadata": {
        "colab": {
          "base_uri": "https://localhost:8080/"
        },
        "id": "1F1V022Lv21O",
        "outputId": "6b6945d5-a374-4a5c-9c56-25610be03b99"
      },
      "execution_count": 42,
      "outputs": [
        {
          "output_type": "stream",
          "name": "stdout",
          "text": [
            "7/7 [==============================] - 5s 425ms/step\n",
            "Accuracy: 0.985\n"
          ]
        }
      ]
    },
    {
      "cell_type": "code",
      "source": [
        "history_dict_gru = history_gru.history\n",
        "\n",
        "# Plotting training and validation loss\n",
        "plt.figure(figsize=(12, 6))\n",
        "\n",
        "plt.plot(history_dict_gru['loss'], label='Training Loss')\n",
        "plt.plot(history_dict_gru['val_loss'], label='Validation Loss')\n",
        "plt.title('Training and Validation Loss of the GRU Model')\n",
        "plt.xlabel('Epochs')\n",
        "plt.ylabel('Loss')\n",
        "plt.legend()\n",
        "\n",
        "plt.show()\n"
      ],
      "metadata": {
        "colab": {
          "base_uri": "https://localhost:8080/",
          "height": 564
        },
        "id": "cgSK1lnowFqe",
        "outputId": "965c1351-2ee8-45ae-94b5-b99da9524cc4"
      },
      "execution_count": 43,
      "outputs": [
        {
          "output_type": "display_data",
          "data": {
            "text/plain": [
              "<Figure size 1200x600 with 1 Axes>"
            ],
            "image/png": "[encoded data removed]"
          },
          "metadata": {}
        }
      ]
    },
    {
      "cell_type": "markdown",
      "source": [
        "####TCN Model"
      ],
      "metadata": {
        "id": "7dqum2hun9IG"
      }
    },
    {
      "cell_type": "code",
      "source": [
        "#Definig TCN Model Architecture\n",
        "def create_tcn_model():\n",
        "    input_shape = (751, 1629)  # Sequence length x number of features\n",
        "    num_classes = 60  # Number of output classes\n",
        "\n",
        "    input_layer = Input(shape=input_shape)\n",
        "    tcn_layer = TCN(nb_filters=32, kernel_size=3, nb_stacks=2, dilations=[1, 2, 4, 8, 16], padding='causal', return_sequences=False)(input_layer)\n",
        "    output_layer = Dense(num_classes, activation='softmax')(tcn_layer)\n",
        "    model = Model(inputs=[input_layer], outputs=[output_layer])\n",
        "    model.compile(optimizer='adam', loss='categorical_crossentropy', metrics=['accuracy'])\n",
        "    return model\n",
        "\n",
        "# Create the model\n",
        "tcn_model = create_tcn_model()\n",
        "\n",
        "# Model summary to verify the architecture\n",
        "tcn_model.summary()\n"
      ],
      "metadata": {
        "colab": {
          "base_uri": "https://localhost:8080/"
        },
        "id": "6_8dL34FwcQa",
        "outputId": "a7fd1b53-573c-42f7-e35f-b6468806824f"
      },
      "execution_count": 44,
      "outputs": [
        {
          "output_type": "stream",
          "name": "stdout",
          "text": [
            "Model: \"model\"\n",
            "_________________________________________________________________\n",
            " Layer (type)                Output Shape              Param #   \n",
            "=================================================================\n",
            " input_1 (InputLayer)        [(None, 751, 1629)]       0         \n",
            "                                                                 \n",
            " tcn (TCN)                   (None, 32)                267552    \n",
            "                                                                 \n",
            " dense_2 (Dense)             (None, 60)                1980      \n",
            "                                                                 \n",
            "=================================================================\n",
            "Total params: 269532 (1.03 MB)\n",
            "Trainable params: 269532 (1.03 MB)\n",
            "Non-trainable params: 0 (0.00 Byte)\n",
            "_________________________________________________________________\n"
          ]
        }
      ]
    },
    {
      "cell_type": "code",
      "source": [
        "# Compile the model\n",
        "tcn_model.compile(optimizer='adam', loss='categorical_crossentropy', metrics=['accuracy'])\n",
        "\n",
        "# Early stopping callback\n",
        "#early_stopping = EarlyStopping(monitor='val_loss', patience=3)\n",
        "\n",
        "# Train the model\n",
        "history_tcn = tcn_model.fit(X_train, y_train, epochs=10, batch_size=64, validation_data=(X_val, y_val), verbose = 2)\n"
      ],
      "metadata": {
        "colab": {
          "base_uri": "https://localhost:8080/"
        },
        "id": "js6PG0SXypr7",
        "outputId": "323c1352-29d5-4a19-d4dc-29901fc32dc3"
      },
      "execution_count": 45,
      "outputs": [
        {
          "output_type": "stream",
          "name": "stdout",
          "text": [
            "Epoch 1/10\n",
            "10/10 - 17s - loss: 1.9601 - accuracy: 0.9716 - val_loss: 0.8642 - val_accuracy: 0.9750 - 17s/epoch - 2s/step\n",
            "Epoch 2/10\n",
            "10/10 - 11s - loss: 0.8530 - accuracy: 0.9749 - val_loss: 0.4245 - val_accuracy: 0.9750 - 11s/epoch - 1s/step\n",
            "Epoch 3/10\n",
            "10/10 - 10s - loss: 0.3448 - accuracy: 0.9749 - val_loss: 0.2961 - val_accuracy: 0.9750 - 10s/epoch - 979ms/step\n",
            "Epoch 4/10\n",
            "10/10 - 10s - loss: 0.2595 - accuracy: 0.9749 - val_loss: 0.2850 - val_accuracy: 0.9750 - 10s/epoch - 992ms/step\n",
            "Epoch 5/10\n",
            "10/10 - 10s - loss: 0.2398 - accuracy: 0.9749 - val_loss: 0.2518 - val_accuracy: 0.9750 - 10s/epoch - 965ms/step\n",
            "Epoch 6/10\n",
            "10/10 - 10s - loss: 0.2263 - accuracy: 0.9749 - val_loss: 0.2415 - val_accuracy: 0.9750 - 10s/epoch - 951ms/step\n",
            "Epoch 7/10\n",
            "10/10 - 10s - loss: 0.2146 - accuracy: 0.9749 - val_loss: 0.2353 - val_accuracy: 0.9750 - 10s/epoch - 985ms/step\n",
            "Epoch 8/10\n",
            "10/10 - 10s - loss: 0.2087 - accuracy: 0.9749 - val_loss: 0.2330 - val_accuracy: 0.9750 - 10s/epoch - 976ms/step\n",
            "Epoch 9/10\n",
            "10/10 - 10s - loss: 0.2036 - accuracy: 0.9749 - val_loss: 0.2297 - val_accuracy: 0.9750 - 10s/epoch - 967ms/step\n",
            "Epoch 10/10\n",
            "10/10 - 9s - loss: 0.1999 - accuracy: 0.9749 - val_loss: 0.2308 - val_accuracy: 0.9750 - 9s/epoch - 931ms/step\n"
          ]
        }
      ]
    },
    {
      "cell_type": "code",
      "source": [
        "# Generating predictions for the test set\n",
        "y_pred_tcn = tcn_model.predict(X_test)\n",
        "\n",
        "# Convert predictions to class labels\n",
        "y_pred_tcn_classes = np.argmax(y_pred_tcn, axis=1)\n",
        "\n",
        "# Convert one-hot encoded test labels back to class labels\n",
        "y_test_classes = np.argmax(y_test, axis=1)\n",
        "\n",
        "# Calculate accuracy\n",
        "test_accuracy_tcn = accuracy_score(y_test_classes, y_pred_tcn_classes)\n",
        "\n",
        "print(f\"Accuracy: {test_accuracy_tcn}\")"
      ],
      "metadata": {
        "id": "2d0BVFuMy2VH",
        "colab": {
          "base_uri": "https://localhost:8080/"
        },
        "outputId": "21fb0ad6-2b9b-4d42-e010-2714c9b3b794"
      },
      "execution_count": 46,
      "outputs": [
        {
          "output_type": "stream",
          "name": "stdout",
          "text": [
            "7/7 [==============================] - 2s 151ms/step\n",
            "Accuracy: 0.985\n"
          ]
        }
      ]
    },
    {
      "cell_type": "code",
      "source": [
        "# Plotting Training and Validation Loss and Accuracy\n",
        "plt.figure(figsize=(12, 5))\n",
        "\n",
        "plt.plot(history_tcn.history['loss'], label='Training Loss')\n",
        "plt.plot(history_tcn.history['val_loss'], label='Validation Loss')\n",
        "plt.title('Training and Validation Loss of TCN Model')\n",
        "plt.xlabel('Epochs')\n",
        "plt.ylabel('Loss')\n",
        "plt.legend()\n",
        "\n",
        "plt.show()"
      ],
      "metadata": {
        "colab": {
          "base_uri": "https://localhost:8080/",
          "height": 487
        },
        "id": "nUKMXSPH0M_x",
        "outputId": "9d599339-039a-4c4f-e218-b6bd1fcdf67b"
      },
      "execution_count": 47,
      "outputs": [
        {
          "output_type": "display_data",
          "data": {
            "text/plain": [
              "<Figure size 1200x500 with 1 Axes>"
            ],
            "image/png": "[encoded data removed]"
          },
          "metadata": {}
        }
      ]
    },
    {
      "cell_type": "markdown",
      "source": [
        "####Comparing Model performance"
      ],
      "metadata": {
        "id": "ocmaQW6joCMz"
      }
    },
    {
      "cell_type": "code",
      "source": [
        "#Comparing Test Accuracies\n",
        "\n",
        "# Data for plotting\n",
        "model_names = ['LSTM', 'GRU', 'TCN']\n",
        "accuracies = [test_accuracy_lstm, test_accuracy_gru, test_accuracy_tcn]\n",
        "\n",
        "plt.bar(model_names, accuracies)\n",
        "plt.xlabel('Model')\n",
        "plt.ylabel('Test Accuracy')\n",
        "plt.title('Comparison of Model Accuracies')\n",
        "plt.ylim([0.5, 1])  # Set the y-axis limits\n",
        "plt.show()\n"
      ],
      "metadata": {
        "id": "Y8hPoFzBpjki",
        "colab": {
          "base_uri": "https://localhost:8080/",
          "height": 472
        },
        "outputId": "e3a446c5-bb6b-4350-aa46-a3ddc57b5c2a"
      },
      "execution_count": 48,
      "outputs": [
        {
          "output_type": "display_data",
          "data": {
            "text/plain": [
              "<Figure size 640x480 with 1 Axes>"
            ],
            "image/png": "[encoded data removed]"
          },
          "metadata": {}
        }
      ]
    },
    {
      "cell_type": "code",
      "source": [
        "# Generate predictions\n",
        "lstm_predictions = lstm_model.predict(X_test)\n",
        "gru_predictions = gru_model.predict(X_test)\n",
        "tcn_predictions = tcn_model.predict(X_test)"
      ],
      "metadata": {
        "id": "QwwO_02uqcVu",
        "colab": {
          "base_uri": "https://localhost:8080/"
        },
        "outputId": "0aa1c3f3-8bdb-4fe5-c74b-1fa73e166da4"
      },
      "execution_count": 49,
      "outputs": [
        {
          "output_type": "stream",
          "name": "stdout",
          "text": [
            "7/7 [==============================] - 5s 624ms/step\n",
            "7/7 [==============================] - 3s 419ms/step\n",
            "7/7 [==============================] - 1s 144ms/step\n"
          ]
        }
      ]
    },
    {
      "cell_type": "code",
      "source": [
        "# Calculate precision for each model\n",
        "precision_lstm = precision_score(y_test.argmax(axis=1), lstm_predictions.argmax(axis=1), average='weighted')\n",
        "precision_gru = precision_score(y_test.argmax(axis=1), gru_predictions.argmax(axis=1), average='weighted')\n",
        "precision_tcn = precision_score(y_test.argmax(axis=1), tcn_predictions.argmax(axis=1), average='weighted')\n",
        "\n",
        "print(f\"LSTM Precision: {precision_lstm}\")\n",
        "print(f\"GRU Precision: {precision_gru}\")\n",
        "print(f\"TCN Precision: {precision_tcn}\")"
      ],
      "metadata": {
        "id": "Po_jZPJ2sOc6",
        "colab": {
          "base_uri": "https://localhost:8080/"
        },
        "outputId": "1433b029-ee78-4011-fde5-0207e5f68a2c"
      },
      "execution_count": 50,
      "outputs": [
        {
          "output_type": "stream",
          "name": "stdout",
          "text": [
            "LSTM Precision: 0.9702249999999999\n",
            "GRU Precision: 0.9702249999999999\n",
            "TCN Precision: 0.9702249999999999\n"
          ]
        },
        {
          "output_type": "stream",
          "name": "stderr",
          "text": [
            "/usr/local/lib/python3.10/dist-packages/sklearn/metrics/_classification.py:1344: UndefinedMetricWarning: Precision is ill-defined and being set to 0.0 in labels with no predicted samples. Use `zero_division` parameter to control this behavior.\n",
            "  _warn_prf(average, modifier, msg_start, len(result))\n",
            "/usr/local/lib/python3.10/dist-packages/sklearn/metrics/_classification.py:1344: UndefinedMetricWarning: Precision is ill-defined and being set to 0.0 in labels with no predicted samples. Use `zero_division` parameter to control this behavior.\n",
            "  _warn_prf(average, modifier, msg_start, len(result))\n",
            "/usr/local/lib/python3.10/dist-packages/sklearn/metrics/_classification.py:1344: UndefinedMetricWarning: Precision is ill-defined and being set to 0.0 in labels with no predicted samples. Use `zero_division` parameter to control this behavior.\n",
            "  _warn_prf(average, modifier, msg_start, len(result))\n"
          ]
        }
      ]
    },
    {
      "cell_type": "code",
      "source": [
        "#Calculting Recall_Score\n",
        "\n",
        "recall_lstm = recall_score(y_test.argmax(axis=1), lstm_predictions.argmax(axis=1), average='weighted')\n",
        "recall_gru = recall_score(y_test.argmax(axis=1), gru_predictions.argmax(axis=1), average='weighted')\n",
        "recall_tcn = recall_score(y_test.argmax(axis=1), tcn_predictions.argmax(axis=1), average='weighted')\n",
        "\n",
        "print(f\"LSTM Recall: {recall_lstm}\")\n",
        "print(f\"GRU Recall: {recall_gru}\")\n",
        "print(f\"TCN Recall: {recall_tcn}\")\n"
      ],
      "metadata": {
        "id": "YhB2VbWrsJnQ",
        "colab": {
          "base_uri": "https://localhost:8080/"
        },
        "outputId": "813ae9ac-c2c9-4472-8005-28de4a6487f9"
      },
      "execution_count": 51,
      "outputs": [
        {
          "output_type": "stream",
          "name": "stdout",
          "text": [
            "LSTM Recall: 0.985\n",
            "GRU Recall: 0.985\n",
            "TCN Recall: 0.985\n"
          ]
        }
      ]
    },
    {
      "cell_type": "code",
      "source": [
        "#Calculating F1 Score\n",
        "\n",
        "f1_lstm = f1_score(y_test.argmax(axis=1), lstm_predictions.argmax(axis=1), average='weighted')\n",
        "f1_gru = f1_score(y_test.argmax(axis=1), gru_predictions.argmax(axis=1), average='weighted')\n",
        "f1_tcn = f1_score(y_test.argmax(axis=1), tcn_predictions.argmax(axis=1), average='weighted')\n",
        "\n",
        "print(f\"LSTM F1 Score: {f1_lstm}\")\n",
        "print(f\"GRU F1 Score: {f1_gru}\")\n",
        "print(f\"TCN F1 Score: {f1_tcn}\")\n"
      ],
      "metadata": {
        "id": "rZ58RZg_sRLT",
        "colab": {
          "base_uri": "https://localhost:8080/"
        },
        "outputId": "cf598a2a-79f2-47ee-92b5-f1caebc9ce24"
      },
      "execution_count": 52,
      "outputs": [
        {
          "output_type": "stream",
          "name": "stdout",
          "text": [
            "LSTM F1 Score: 0.9775566750629724\n",
            "GRU F1 Score: 0.9775566750629724\n",
            "TCN F1 Score: 0.9775566750629724\n"
          ]
        }
      ]
    },
    {
      "cell_type": "code",
      "source": [
        "# Plotting log loss values for each epoch in the training history\n",
        "plt.figure(figsize=(8, 6))\n",
        "plt.plot(history_lstm.history['loss'], label='LSTM Training Log Loss')\n",
        "plt.plot(history_gru.history['loss'], label='GRU Training Log Loss')\n",
        "plt.plot(history_tcn.history['loss'], label='TCN Training Log Loss')\n",
        "plt.xlabel('Epochs')\n",
        "plt.ylabel('Log Loss')\n",
        "plt.title('Training Log Loss Over Epochs')\n",
        "plt.legend()\n",
        "plt.show()\n"
      ],
      "metadata": {
        "id": "k2I8901dtGmW",
        "colab": {
          "base_uri": "https://localhost:8080/",
          "height": 564
        },
        "outputId": "cb3ebfc8-b895-4ccd-8e47-6b7a8f6e167a"
      },
      "execution_count": 53,
      "outputs": [
        {
          "output_type": "display_data",
          "data": {
            "text/plain": [
              "<Figure size 800x600 with 1 Axes>"
            ],
            "image/png": "[encoded data removed]"
          },
          "metadata": {}
        }
      ]
    },
    {
      "cell_type": "markdown",
      "source": [
        "###Improving TCN Accuracy"
      ],
      "metadata": {
        "id": "bmKcL-LW-nZL"
      }
    },
    {
      "cell_type": "code",
      "source": [
        "from tensorflow.keras.callbacks import EarlyStopping\n",
        "#Implementing Earky Stopping\n",
        "early_stopping = EarlyStopping(\n",
        "    monitor='val_loss',\n",
        "    patience=3,\n",
        "    restore_best_weights=True\n",
        ")\n"
      ],
      "metadata": {
        "id": "6M2YLLg2_NHj"
      },
      "execution_count": 54,
      "outputs": []
    },
    {
      "cell_type": "code",
      "source": [
        "#Adding a Learning Rate Scheduler\n",
        "from tensorflow.keras.callbacks import LearningRateScheduler\n",
        "import tensorflow as tf\n",
        "\n",
        "def scheduler(epoch, lr):\n",
        "    if epoch < 5:\n",
        "        return lr\n",
        "    else:\n",
        "        return lr * tf.math.exp(-0.1)\n",
        "\n",
        "lr_scheduler = LearningRateScheduler(scheduler)\n"
      ],
      "metadata": {
        "id": "PVkdDyGv-qEZ"
      },
      "execution_count": 55,
      "outputs": []
    },
    {
      "cell_type": "code",
      "source": [
        "from tensorflow.keras.layers import Input, Dense\n",
        "from tensorflow.keras.models import Model\n",
        "from tcn import TCN\n",
        "from kerastuner.tuners import RandomSearch\n",
        "\n",
        "def build_model(hp):\n",
        "    input_shape = (751, 1629)  # Sequence length x number of features\n",
        "    num_classes = 60  # Number of output classes\n",
        "\n",
        "    input_layer = Input(shape=input_shape)\n",
        "\n",
        "    # Allowing the tuner to choose the number of filters and kernel size\n",
        "    tcn_layer = TCN(\n",
        "        nb_filters=hp.Int('nb_filters', min_value=32, max_value=128, step=32),\n",
        "        kernel_size=hp.Choice('kernel_size', values=[3, 5, 7]),\n",
        "        nb_stacks=hp.Int('nb_stacks', min_value=1, max_value=3, step=1),\n",
        "        dilations=[1, 2, 4, 8, 16],\n",
        "        padding='causal',\n",
        "        use_skip_connections=True,\n",
        "        dropout_rate=hp.Float('dropout_rate', min_value=0, max_value=0.5, step=0.1),\n",
        "        return_sequences=False\n",
        "    )(input_layer)\n",
        "\n",
        "    output_layer = Dense(num_classes, activation='softmax')(tcn_layer)\n",
        "\n",
        "    model = Model(inputs=[input_layer], outputs=[output_layer])\n",
        "\n",
        "    # Allowing the tuner to choose the learning rate\n",
        "    model.compile(\n",
        "        optimizer=hp.Choice('optimizer', values=['adam', 'rmsprop', 'sgd']),\n",
        "        loss='categorical_crossentropy',\n",
        "        metrics=['accuracy']\n",
        "    )\n",
        "\n",
        "    return model"
      ],
      "metadata": {
        "colab": {
          "base_uri": "https://localhost:8080/"
        },
        "id": "ApyggOPA_6Zv",
        "outputId": "9b0a6e7d-419c-469f-96b4-896e15eee61e"
      },
      "execution_count": 56,
      "outputs": [
        {
          "output_type": "stream",
          "name": "stderr",
          "text": [
            "<ipython-input-56-57421f5d8bfc>:4: DeprecationWarning: `import kerastuner` is deprecated, please use `import keras_tuner`.\n",
            "  from kerastuner.tuners import RandomSearch\n"
          ]
        }
      ]
    },
    {
      "cell_type": "code",
      "source": [
        "# Defining the tuner\n",
        "tuner = RandomSearch(\n",
        "    build_model,\n",
        "    objective='val_accuracy',\n",
        "    max_trials=5,  # The number of models to try\n",
        "    executions_per_trial=1,  # The number of models to build and fit for each trial\n",
        "    directory='keras_tuner',\n",
        "    project_name='tcn_tuning'\n",
        ")"
      ],
      "metadata": {
        "id": "qK3uj_y6O7EL"
      },
      "execution_count": 58,
      "outputs": []
    },
    {
      "cell_type": "code",
      "source": [
        "# Conducting the hyperparameter tuning\n",
        "tuner.search_space_summary()\n",
        "\n",
        "# Starting the search for the best hyperparameters\n",
        "tuner.search(X_train, y_train, epochs=10, validation_data=(X_val, y_val))"
      ],
      "metadata": {
        "colab": {
          "base_uri": "https://localhost:8080/"
        },
        "id": "cZPi59ajO_6i",
        "outputId": "4a718a63-b26c-417f-aad0-ea0b118dcdc0"
      },
      "execution_count": 59,
      "outputs": [
        {
          "output_type": "stream",
          "name": "stdout",
          "text": [
            "Trial 5 Complete [00h 03m 30s]\n",
            "val_accuracy: 0.9750000238418579\n",
            "\n",
            "Best val_accuracy So Far: 0.9750000238418579\n",
            "Total elapsed time: 00h 23m 00s\n"
          ]
        }
      ]
    },
    {
      "cell_type": "code",
      "source": [
        "#Displaying Results of all trials\n",
        "tuner.results_summary(num_trials=len(tuner.oracle.trials))"
      ],
      "metadata": {
        "colab": {
          "base_uri": "https://localhost:8080/"
        },
        "id": "TxFFF2Cuz9Ei",
        "outputId": "3d02b94f-d46d-47f4-8e41-c1d3536f1d6f"
      },
      "execution_count": 60,
      "outputs": [
        {
          "output_type": "stream",
          "name": "stdout",
          "text": [
            "Results summary\n",
            "Results in keras_tuner/tcn_tuning\n",
            "Showing 5 best trials\n",
            "Objective(name=\"val_accuracy\", direction=\"max\")\n",
            "\n",
            "Trial 0 summary\n",
            "Hyperparameters:\n",
            "nb_filters: 128\n",
            "kernel_size: 5\n",
            "nb_stacks: 1\n",
            "dropout_rate: 0.4\n",
            "optimizer: rmsprop\n",
            "Score: 0.9750000238418579\n",
            "\n",
            "Trial 1 summary\n",
            "Hyperparameters:\n",
            "nb_filters: 96\n",
            "kernel_size: 5\n",
            "nb_stacks: 1\n",
            "dropout_rate: 0.0\n",
            "optimizer: sgd\n",
            "Score: 0.9750000238418579\n",
            "\n",
            "Trial 2 summary\n",
            "Hyperparameters:\n",
            "nb_filters: 96\n",
            "kernel_size: 5\n",
            "nb_stacks: 1\n",
            "dropout_rate: 0.2\n",
            "optimizer: sgd\n",
            "Score: 0.9750000238418579\n",
            "\n",
            "Trial 3 summary\n",
            "Hyperparameters:\n",
            "nb_filters: 64\n",
            "kernel_size: 5\n",
            "nb_stacks: 3\n",
            "dropout_rate: 0.4\n",
            "optimizer: sgd\n",
            "Score: 0.9750000238418579\n",
            "\n",
            "Trial 4 summary\n",
            "Hyperparameters:\n",
            "nb_filters: 64\n",
            "kernel_size: 5\n",
            "nb_stacks: 1\n",
            "dropout_rate: 0.1\n",
            "optimizer: adam\n",
            "Score: 0.9750000238418579\n"
          ]
        }
      ]
    },
    {
      "cell_type": "code",
      "source": [
        "# Get the best hyperparameters\n",
        "best_hps = tuner.get_best_hyperparameters(num_trials=1)[0]"
      ],
      "metadata": {
        "colab": {
          "base_uri": "https://localhost:8080/"
        },
        "id": "e87vHZKt6kLU",
        "outputId": "d8f445fb-121e-447d-cd11-8811e532103b"
      },
      "execution_count": 64,
      "outputs": [
        {
          "output_type": "stream",
          "name": "stdout",
          "text": [
            "Best hyperparameters: <keras_tuner.src.engine.hyperparameters.hyperparameters.HyperParameters object at 0x7af5f6fded40>\n"
          ]
        }
      ]
    },
    {
      "cell_type": "code",
      "source": [
        "# Building the model with the best hyperparameters\n",
        "model = tuner.hypermodel.build(best_hps)\n",
        "\n",
        "# Printing the model's architecture\n",
        "model.summary()"
      ],
      "metadata": {
        "id": "SmC3M5J7PCxp",
        "colab": {
          "base_uri": "https://localhost:8080/"
        },
        "outputId": "259902ec-4f05-41cd-cc6e-6a07f7cd05aa"
      },
      "execution_count": 61,
      "outputs": [
        {
          "output_type": "stream",
          "name": "stdout",
          "text": [
            "Model: \"model_1\"\n",
            "_________________________________________________________________\n",
            " Layer (type)                Output Shape              Param #   \n",
            "=================================================================\n",
            " input_2 (InputLayer)        [(None, 751, 1629)]       0         \n",
            "                                                                 \n",
            " tcn_1 (TCN)                 (None, 128)               1989760   \n",
            "                                                                 \n",
            " dense_1 (Dense)             (None, 60)                7740      \n",
            "                                                                 \n",
            "=================================================================\n",
            "Total params: 1997500 (7.62 MB)\n",
            "Trainable params: 1997500 (7.62 MB)\n",
            "Non-trainable params: 0 (0.00 Byte)\n",
            "_________________________________________________________________\n"
          ]
        }
      ]
    },
    {
      "cell_type": "code",
      "source": [
        "# Train the best model\n",
        "history = model.fit(X_train, y_train, epochs= 10, validation_data=(X_val, y_val), callbacks=[early_stopping, lr_scheduler])\n"
      ],
      "metadata": {
        "colab": {
          "base_uri": "https://localhost:8080/"
        },
        "id": "vkeQQHdyPEsV",
        "outputId": "5f34d775-d63b-4d26-b2af-5daf85592838"
      },
      "execution_count": 66,
      "outputs": [
        {
          "output_type": "stream",
          "name": "stdout",
          "text": [
            "Epoch 1/10\n",
            "19/19 [==============================] - 33s 2s/step - loss: 0.2550 - accuracy: 0.9749 - val_loss: 0.2653 - val_accuracy: 0.9750 - lr: 6.7032e-04\n",
            "Epoch 2/10\n",
            "19/19 [==============================] - 32s 2s/step - loss: 0.2694 - accuracy: 0.9749 - val_loss: 0.2514 - val_accuracy: 0.9750 - lr: 6.7032e-04\n",
            "Epoch 3/10\n",
            "19/19 [==============================] - 32s 2s/step - loss: 0.2545 - accuracy: 0.9749 - val_loss: 0.2932 - val_accuracy: 0.9750 - lr: 6.7032e-04\n",
            "Epoch 4/10\n",
            "19/19 [==============================] - 32s 2s/step - loss: 0.2283 - accuracy: 0.9749 - val_loss: 0.3024 - val_accuracy: 0.9750 - lr: 6.7032e-04\n",
            "Epoch 5/10\n",
            "19/19 [==============================] - 32s 2s/step - loss: 0.2594 - accuracy: 0.9749 - val_loss: 0.2747 - val_accuracy: 0.9750 - lr: 6.7032e-04\n"
          ]
        }
      ]
    },
    {
      "cell_type": "code",
      "source": [
        "# Evaluate the best model\n",
        "eval_result = model.evaluate(X_test, y_test)\n",
        "print(\"[test loss, test accuracy]:\", eval_result)"
      ],
      "metadata": {
        "colab": {
          "base_uri": "https://localhost:8080/"
        },
        "id": "hSO_t3_57AjF",
        "outputId": "62374316-4132-40ca-8045-c9830b096316"
      },
      "execution_count": 67,
      "outputs": [
        {
          "output_type": "stream",
          "name": "stdout",
          "text": [
            "7/7 [==============================] - 4s 489ms/step - loss: 0.1130 - accuracy: 0.9850\n",
            "[test loss, test accuracy]: [0.11300069093704224, 0.9850000143051147]\n"
          ]
        }
      ]
    }
  ]
}