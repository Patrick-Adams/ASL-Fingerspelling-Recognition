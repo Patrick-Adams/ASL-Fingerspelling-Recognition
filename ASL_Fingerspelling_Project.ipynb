{
  "nbformat": 4,
  "nbformat_minor": 0,
  "metadata": {
    "colab": {
      "provenance": [],
      "machine_shape": "hm",
      "gpuType": "V100",
      "collapsed_sections": [
        "9_a9Pg3IrEun",
        "3EGohRZcxNnW",
        "j85RssKkq4Fe",
        "CEabPFwPC3BQ",
        "KAwQFBU-zPVY",
        "USvv58vvS5-Z",
        "LzwZHgUeO9NQ",
        "_G-NbqQq3oPs",
        "t97_CaXDCazT",
        "Es8GlZWHsCgy",
        "_LqkUMxEwWbJ"
      ]
    },
    "kernelspec": {
      "name": "python3",
      "display_name": "Python 3"
    },
    "language_info": {
      "name": "python"
    }
  },
  "cells": [
    {
      "cell_type": "markdown",
      "source": [
        "# ASL Fingerspelling Recognition\n",
        "\n",
        "Created by Patrick Adams and Gail Goveas"
      ],
      "metadata": {
        "id": "3Gla383T-5gC"
      }
    },
    {
      "cell_type": "markdown",
      "source": [
        "#### Dowloading data from google cloud to local directory"
      ],
      "metadata": {
        "id": "9_a9Pg3IrEun"
      }
    },
    {
      "cell_type": "code",
      "source": [
        "#!pip install google-cloud-storage\n",
        "#!pip install keras-tcn\n"
      ],
      "metadata": {
        "id": "umQ6Tw0z_A68",
        "colab": {
          "base_uri": "https://localhost:8080/"
        },
        "outputId": "bfc527a4-5165-4b49-d14a-71d86c502ba0"
      },
      "execution_count": 36,
      "outputs": [
        {
          "output_type": "stream",
          "name": "stdout",
          "text": [
            "Collecting keras-tcn\n",
            "  Downloading keras_tcn-3.5.0-py3-none-any.whl (13 kB)\n",
            "Requirement already satisfied: numpy in /usr/local/lib/python3.10/dist-packages (from keras-tcn) (1.23.5)\n",
            "Requirement already satisfied: tensorflow in /usr/local/lib/python3.10/dist-packages (from keras-tcn) (2.14.0)\n",
            "Collecting tensorflow-addons (from keras-tcn)\n",
            "  Downloading tensorflow_addons-0.23.0-cp310-cp310-manylinux_2_17_x86_64.manylinux2014_x86_64.whl (611 kB)\n",
            "\u001b[2K     \u001b[90m━━━━━━━━━━━━━━━━━━━━━━━━━━━━━━━━━━━━━━━━\u001b[0m \u001b[32m611.8/611.8 kB\u001b[0m \u001b[31m8.6 MB/s\u001b[0m eta \u001b[36m0:00:00\u001b[0m\n",
            "\u001b[?25hRequirement already satisfied: absl-py>=1.0.0 in /usr/local/lib/python3.10/dist-packages (from tensorflow->keras-tcn) (1.4.0)\n",
            "Requirement already satisfied: astunparse>=1.6.0 in /usr/local/lib/python3.10/dist-packages (from tensorflow->keras-tcn) (1.6.3)\n",
            "Requirement already satisfied: flatbuffers>=23.5.26 in /usr/local/lib/python3.10/dist-packages (from tensorflow->keras-tcn) (23.5.26)\n",
            "Requirement already satisfied: gast!=0.5.0,!=0.5.1,!=0.5.2,>=0.2.1 in /usr/local/lib/python3.10/dist-packages (from tensorflow->keras-tcn) (0.5.4)\n",
            "Requirement already satisfied: google-pasta>=0.1.1 in /usr/local/lib/python3.10/dist-packages (from tensorflow->keras-tcn) (0.2.0)\n",
            "Requirement already satisfied: h5py>=2.9.0 in /usr/local/lib/python3.10/dist-packages (from tensorflow->keras-tcn) (3.9.0)\n",
            "Requirement already satisfied: libclang>=13.0.0 in /usr/local/lib/python3.10/dist-packages (from tensorflow->keras-tcn) (16.0.6)\n",
            "Requirement already satisfied: ml-dtypes==0.2.0 in /usr/local/lib/python3.10/dist-packages (from tensorflow->keras-tcn) (0.2.0)\n",
            "Requirement already satisfied: opt-einsum>=2.3.2 in /usr/local/lib/python3.10/dist-packages (from tensorflow->keras-tcn) (3.3.0)\n",
            "Requirement already satisfied: packaging in /usr/local/lib/python3.10/dist-packages (from tensorflow->keras-tcn) (23.2)\n",
            "Requirement already satisfied: protobuf!=4.21.0,!=4.21.1,!=4.21.2,!=4.21.3,!=4.21.4,!=4.21.5,<5.0.0dev,>=3.20.3 in /usr/local/lib/python3.10/dist-packages (from tensorflow->keras-tcn) (3.20.3)\n",
            "Requirement already satisfied: setuptools in /usr/local/lib/python3.10/dist-packages (from tensorflow->keras-tcn) (67.7.2)\n",
            "Requirement already satisfied: six>=1.12.0 in /usr/local/lib/python3.10/dist-packages (from tensorflow->keras-tcn) (1.16.0)\n",
            "Requirement already satisfied: termcolor>=1.1.0 in /usr/local/lib/python3.10/dist-packages (from tensorflow->keras-tcn) (2.3.0)\n",
            "Requirement already satisfied: typing-extensions>=3.6.6 in /usr/local/lib/python3.10/dist-packages (from tensorflow->keras-tcn) (4.5.0)\n",
            "Requirement already satisfied: wrapt<1.15,>=1.11.0 in /usr/local/lib/python3.10/dist-packages (from tensorflow->keras-tcn) (1.14.1)\n",
            "Requirement already satisfied: tensorflow-io-gcs-filesystem>=0.23.1 in /usr/local/lib/python3.10/dist-packages (from tensorflow->keras-tcn) (0.34.0)\n",
            "Requirement already satisfied: grpcio<2.0,>=1.24.3 in /usr/local/lib/python3.10/dist-packages (from tensorflow->keras-tcn) (1.59.3)\n",
            "Requirement already satisfied: tensorboard<2.15,>=2.14 in /usr/local/lib/python3.10/dist-packages (from tensorflow->keras-tcn) (2.14.1)\n",
            "Requirement already satisfied: tensorflow-estimator<2.15,>=2.14.0 in /usr/local/lib/python3.10/dist-packages (from tensorflow->keras-tcn) (2.14.0)\n",
            "Requirement already satisfied: keras<2.15,>=2.14.0 in /usr/local/lib/python3.10/dist-packages (from tensorflow->keras-tcn) (2.14.0)\n",
            "Collecting typeguard<3.0.0,>=2.7 (from tensorflow-addons->keras-tcn)\n",
            "  Downloading typeguard-2.13.3-py3-none-any.whl (17 kB)\n",
            "Requirement already satisfied: wheel<1.0,>=0.23.0 in /usr/local/lib/python3.10/dist-packages (from astunparse>=1.6.0->tensorflow->keras-tcn) (0.42.0)\n",
            "Requirement already satisfied: google-auth<3,>=1.6.3 in /usr/local/lib/python3.10/dist-packages (from tensorboard<2.15,>=2.14->tensorflow->keras-tcn) (2.17.3)\n",
            "Requirement already satisfied: google-auth-oauthlib<1.1,>=0.5 in /usr/local/lib/python3.10/dist-packages (from tensorboard<2.15,>=2.14->tensorflow->keras-tcn) (1.0.0)\n",
            "Requirement already satisfied: markdown>=2.6.8 in /usr/local/lib/python3.10/dist-packages (from tensorboard<2.15,>=2.14->tensorflow->keras-tcn) (3.5.1)\n",
            "Requirement already satisfied: requests<3,>=2.21.0 in /usr/local/lib/python3.10/dist-packages (from tensorboard<2.15,>=2.14->tensorflow->keras-tcn) (2.31.0)\n",
            "Requirement already satisfied: tensorboard-data-server<0.8.0,>=0.7.0 in /usr/local/lib/python3.10/dist-packages (from tensorboard<2.15,>=2.14->tensorflow->keras-tcn) (0.7.2)\n",
            "Requirement already satisfied: werkzeug>=1.0.1 in /usr/local/lib/python3.10/dist-packages (from tensorboard<2.15,>=2.14->tensorflow->keras-tcn) (3.0.1)\n",
            "Requirement already satisfied: cachetools<6.0,>=2.0.0 in /usr/local/lib/python3.10/dist-packages (from google-auth<3,>=1.6.3->tensorboard<2.15,>=2.14->tensorflow->keras-tcn) (5.3.2)\n",
            "Requirement already satisfied: pyasn1-modules>=0.2.1 in /usr/local/lib/python3.10/dist-packages (from google-auth<3,>=1.6.3->tensorboard<2.15,>=2.14->tensorflow->keras-tcn) (0.3.0)\n",
            "Requirement already satisfied: rsa<5,>=3.1.4 in /usr/local/lib/python3.10/dist-packages (from google-auth<3,>=1.6.3->tensorboard<2.15,>=2.14->tensorflow->keras-tcn) (4.9)\n",
            "Requirement already satisfied: requests-oauthlib>=0.7.0 in /usr/local/lib/python3.10/dist-packages (from google-auth-oauthlib<1.1,>=0.5->tensorboard<2.15,>=2.14->tensorflow->keras-tcn) (1.3.1)\n",
            "Requirement already satisfied: charset-normalizer<4,>=2 in /usr/local/lib/python3.10/dist-packages (from requests<3,>=2.21.0->tensorboard<2.15,>=2.14->tensorflow->keras-tcn) (3.3.2)\n",
            "Requirement already satisfied: idna<4,>=2.5 in /usr/local/lib/python3.10/dist-packages (from requests<3,>=2.21.0->tensorboard<2.15,>=2.14->tensorflow->keras-tcn) (3.6)\n",
            "Requirement already satisfied: urllib3<3,>=1.21.1 in /usr/local/lib/python3.10/dist-packages (from requests<3,>=2.21.0->tensorboard<2.15,>=2.14->tensorflow->keras-tcn) (2.0.7)\n",
            "Requirement already satisfied: certifi>=2017.4.17 in /usr/local/lib/python3.10/dist-packages (from requests<3,>=2.21.0->tensorboard<2.15,>=2.14->tensorflow->keras-tcn) (2023.11.17)\n",
            "Requirement already satisfied: MarkupSafe>=2.1.1 in /usr/local/lib/python3.10/dist-packages (from werkzeug>=1.0.1->tensorboard<2.15,>=2.14->tensorflow->keras-tcn) (2.1.3)\n",
            "Requirement already satisfied: pyasn1<0.6.0,>=0.4.6 in /usr/local/lib/python3.10/dist-packages (from pyasn1-modules>=0.2.1->google-auth<3,>=1.6.3->tensorboard<2.15,>=2.14->tensorflow->keras-tcn) (0.5.1)\n",
            "Requirement already satisfied: oauthlib>=3.0.0 in /usr/local/lib/python3.10/dist-packages (from requests-oauthlib>=0.7.0->google-auth-oauthlib<1.1,>=0.5->tensorboard<2.15,>=2.14->tensorflow->keras-tcn) (3.2.2)\n",
            "Installing collected packages: typeguard, tensorflow-addons, keras-tcn\n",
            "Successfully installed keras-tcn-3.5.0 tensorflow-addons-0.23.0 typeguard-2.13.3\n"
          ]
        }
      ]
    },
    {
      "cell_type": "code",
      "source": [
        "#importing and authenticating google colab\n",
        "from google.cloud import storage\n",
        "from google.colab import auth\n",
        "auth.authenticate_user()"
      ],
      "metadata": {
        "id": "7_R0f_Hb_LaC"
      },
      "execution_count": 2,
      "outputs": []
    },
    {
      "cell_type": "code",
      "source": [
        "#creating a client object for Google Cloud storage\n",
        "client = storage.Client()\n",
        "\n",
        "#creating a reference to the Google Cloud bucket\n",
        "bucket = client.get_bucket('asl_fingerspelling_project_bucket-1')\n",
        "blob = bucket.blob('asl-fingerspelling/train.csv')\n",
        "blob2 = bucket.blob('asl-fingerspelling/train_landmarks/1019715464.parquet')\n",
        "blob3 = bucket.blob('asl-fingerspelling/character_to_prediction_index.json')"
      ],
      "metadata": {
        "id": "G2vMY1rV_PHy"
      },
      "execution_count": 3,
      "outputs": []
    },
    {
      "cell_type": "code",
      "source": [
        "#downloading the data to a local file\n",
        "blob.download_to_filename('train.csv')\n",
        "blob2.download_to_filename('train_landmark1.parquet')\n",
        "blob3.download_to_filename('character_to_prediction.json')"
      ],
      "metadata": {
        "id": "zKWWQQivl45R"
      },
      "execution_count": 4,
      "outputs": []
    },
    {
      "cell_type": "markdown",
      "source": [
        "####Importing Packages"
      ],
      "metadata": {
        "id": "3EGohRZcxNnW"
      }
    },
    {
      "cell_type": "code",
      "source": [
        "#importing packages\n",
        "import pandas as pd\n",
        "import pyarrow.parquet as pq\n",
        "import json\n",
        "\n",
        "import numpy as np\n",
        "\n",
        "from sklearn.preprocessing import StandardScaler\n",
        "\n",
        "from tensorflow.keras.utils import to_categorical\n",
        "\n",
        "from tensorflow.keras.preprocessing.sequence import pad_sequences\n",
        "\n",
        "from sklearn.model_selection import train_test_split\n",
        "\n",
        "from tensorflow.keras.models import Sequential, Model\n",
        "from tensorflow.keras.layers import LSTM, Dense, Dropout, GRU, Input\n",
        "\n",
        "import matplotlib.pyplot as plt\n",
        "\n",
        "from tensorflow.keras.callbacks import EarlyStopping, ModelCheckpoint\n",
        "\n",
        "from tcn import TCN"
      ],
      "metadata": {
        "id": "EBVXgHQYkTdf"
      },
      "execution_count": 39,
      "outputs": []
    },
    {
      "cell_type": "markdown",
      "source": [
        "#### Loading and understanding the Datasets\n",
        "\n",
        "This section focuses on importing and getting familiar with the datasets.  A preliminary exploration is conducted to understand the structure and size of the metadata, landmark data and the character to prediction file. These steps establish a foundational understanding of the data's layout, content, and dimensions, allowing more in-depth analysis and processing.\n",
        "\n",
        "\n",
        "\n",
        "\n",
        "\n"
      ],
      "metadata": {
        "id": "j85RssKkq4Fe"
      }
    },
    {
      "cell_type": "code",
      "source": [
        "# Loading and exploring the metadata\n",
        "df = pd.read_csv('train.csv')\n",
        "print(df.head())\n",
        "print(f\"shape of metadata is: {df.shape}\")"
      ],
      "metadata": {
        "colab": {
          "base_uri": "https://localhost:8080/"
        },
        "id": "Z1Qr_EeYAKnB",
        "outputId": "6f5ddc25-17e5-4a44-c1b3-7048e7ada0c0"
      },
      "execution_count": 6,
      "outputs": [
        {
          "output_type": "stream",
          "name": "stdout",
          "text": [
            "                              path  file_id  sequence_id  participant_id  \\\n",
            "0  train_landmarks/5414471.parquet  5414471   1816796431             217   \n",
            "1  train_landmarks/5414471.parquet  5414471   1816825349             107   \n",
            "2  train_landmarks/5414471.parquet  5414471   1816909464               1   \n",
            "3  train_landmarks/5414471.parquet  5414471   1816967051              63   \n",
            "4  train_landmarks/5414471.parquet  5414471   1817123330              89   \n",
            "\n",
            "                      phrase  \n",
            "0               3 creekhouse  \n",
            "1            scales/kuhaylah  \n",
            "2        1383 william lanier  \n",
            "3          988 franklin lane  \n",
            "4  6920 northeast 661st road  \n",
            "shape of metadata is: (67208, 5)\n"
          ]
        }
      ]
    },
    {
      "cell_type": "markdown",
      "source": [
        "The dataset 67,208 records distributed across five distinctive columns.\n",
        "The features are as follows:\n",
        "\n",
        "*  ***path***- Shows where the landmark file is stored.\n",
        "*  ***file_id***- A unique identifier for the data file.\n",
        "*  ***participant_id*** A unique identifier for the data contributor.\n",
        "*  ***sequence_id*** - A unique identifier for the landmark sequence. Each data file may contain many sequences.\n",
        "\n",
        "In the \"train.csv\" dataset, there is also a label called ***phrase***. The train and test datasets contain randomly generated addresses, phone numbers, and urls derived from components of real addresses/phone numbers/urls.\n"
      ],
      "metadata": {
        "id": "xN6jr1JzU0Zz"
      }
    },
    {
      "cell_type": "code",
      "source": [
        "#Loading the landmark data which is a parquet file\n",
        "df_landmark = pd.read_parquet('train_landmark1.parquet', engine='pyarrow')\n",
        "print(df_landmark.head())\n",
        "print(f\"shape of landmark dataset is: {df_landmark.shape}\")"
      ],
      "metadata": {
        "colab": {
          "base_uri": "https://localhost:8080/"
        },
        "id": "Zzh8Oan2evR9",
        "outputId": "7d5e4940-bdbb-498d-843b-d056502c3d65"
      },
      "execution_count": 7,
      "outputs": [
        {
          "output_type": "stream",
          "name": "stdout",
          "text": [
            "             frame  x_face_0  x_face_1  x_face_2  x_face_3  x_face_4  \\\n",
            "sequence_id                                                            \n",
            "1975433633       0  0.578892  0.578482  0.582906  0.572686  0.579030   \n",
            "1975433633       1  0.577563  0.578528  0.582916  0.572760  0.579090   \n",
            "1975433633       2  0.576181  0.576949  0.581346  0.572293  0.577725   \n",
            "1975433633       3  0.575575  0.577569  0.581769  0.572443  0.578289   \n",
            "1975433633       4  0.577907  0.577628  0.582295  0.572930  0.578345   \n",
            "\n",
            "             x_face_5  x_face_6  x_face_7  x_face_8  ...  z_right_hand_11  \\\n",
            "sequence_id                                          ...                    \n",
            "1975433633   0.582115  0.591430  0.498995  0.595773  ...        -0.253687   \n",
            "1975433633   0.582197  0.591687  0.497613  0.596104  ...              NaN   \n",
            "1975433633   0.581191  0.591550  0.497113  0.596477  ...        -0.233556   \n",
            "1975433633   0.581652  0.591728  0.496759  0.596573  ...        -0.190909   \n",
            "1975433633   0.581873  0.592467  0.498170  0.597383  ...              NaN   \n",
            "\n",
            "             z_right_hand_12  z_right_hand_13  z_right_hand_14  \\\n",
            "sequence_id                                                      \n",
            "1975433633         -0.291687        -0.123892        -0.195255   \n",
            "1975433633               NaN              NaN              NaN   \n",
            "1975433633         -0.267114        -0.116145        -0.179053   \n",
            "1975433633         -0.218471        -0.093956        -0.149982   \n",
            "1975433633               NaN              NaN              NaN   \n",
            "\n",
            "             z_right_hand_15  z_right_hand_16  z_right_hand_17  \\\n",
            "sequence_id                                                      \n",
            "1975433633         -0.249135        -0.284375        -0.125050   \n",
            "1975433633               NaN              NaN              NaN   \n",
            "1975433633         -0.223861        -0.253004        -0.122090   \n",
            "1975433633         -0.188452        -0.211573        -0.102759   \n",
            "1975433633               NaN              NaN              NaN   \n",
            "\n",
            "             z_right_hand_18  z_right_hand_19  z_right_hand_20  \n",
            "sequence_id                                                     \n",
            "1975433633         -0.187797        -0.224827        -0.249662  \n",
            "1975433633               NaN              NaN              NaN  \n",
            "1975433633         -0.173169        -0.200727        -0.219106  \n",
            "1975433633         -0.147642        -0.168562        -0.180578  \n",
            "1975433633               NaN              NaN              NaN  \n",
            "\n",
            "[5 rows x 1630 columns]\n",
            "shape of landmark dataset is: (161461, 1630)\n"
          ]
        }
      ]
    },
    {
      "cell_type": "code",
      "source": [
        "# Select a random row from the metadata\n",
        "random_row = df.sample(n=1, random_state = 10)\n",
        "\n",
        "# Extracting the 'sequence_id' and 'phrase' from the random row\n",
        "sequence_id, phrase = random_row.iloc[0][['sequence_id', 'phrase']]\n",
        "\n",
        "# Print the information\n",
        "print(f\"sequence_id: {sequence_id}, phrase: {phrase}\")\n",
        "\n",
        "# Extracting rows from the landmark file where the index matches sequence_id\n",
        "sample_sequence_df = df_landmark.loc[sequence_id]\n",
        "print(sample_sequence_df.head())\n",
        "print(f\"shape of {phrase} is: {sample_sequence_df.shape}\")"
      ],
      "metadata": {
        "colab": {
          "base_uri": "https://localhost:8080/"
        },
        "id": "bfiW-sJ2dTG2",
        "outputId": "affed434-6f04-406a-ed66-1a5958f032e5"
      },
      "execution_count": 8,
      "outputs": [
        {
          "output_type": "stream",
          "name": "stdout",
          "text": [
            "sequence_id: 1990366432, phrase: erik hamilton\n",
            "             frame  x_face_0  x_face_1  x_face_2  x_face_3  x_face_4  \\\n",
            "sequence_id                                                            \n",
            "1990366432       0  0.605239  0.593421  0.596282  0.580097  0.592252   \n",
            "1990366432       1  0.603645  0.592110  0.595200  0.579088  0.590954   \n",
            "1990366432       2  0.603877  0.592069  0.595029  0.579474  0.591040   \n",
            "1990366432       3  0.604464  0.592974  0.595711  0.580374  0.592028   \n",
            "1990366432       4  0.608290  0.596224  0.598583  0.583649  0.595389   \n",
            "\n",
            "             x_face_5  x_face_6  x_face_7  x_face_8  ...  z_right_hand_11  \\\n",
            "sequence_id                                          ...                    \n",
            "1990366432   0.592052  0.592877  0.500375  0.591588  ...        -0.104486   \n",
            "1990366432   0.590844  0.591982  0.500396  0.590895  ...        -0.077800   \n",
            "1990366432   0.591081  0.592483  0.501297  0.591556  ...        -0.061390   \n",
            "1990366432   0.592118  0.593550  0.501846  0.592731  ...        -0.071053   \n",
            "1990366432   0.595503  0.596907  0.503180  0.596161  ...        -0.076400   \n",
            "\n",
            "             z_right_hand_12  z_right_hand_13  z_right_hand_14  \\\n",
            "sequence_id                                                      \n",
            "1990366432         -0.117859        -0.066079        -0.091918   \n",
            "1990366432         -0.082337        -0.046405        -0.069729   \n",
            "1990366432         -0.066228        -0.027084        -0.050595   \n",
            "1990366432         -0.077422        -0.036872        -0.062053   \n",
            "1990366432         -0.081872        -0.038543        -0.071828   \n",
            "\n",
            "             z_right_hand_15  z_right_hand_16  z_right_hand_17  \\\n",
            "sequence_id                                                      \n",
            "1990366432         -0.099247        -0.102749        -0.084254   \n",
            "1990366432         -0.074917        -0.072452        -0.064785   \n",
            "1990366432         -0.057911        -0.055620        -0.044906   \n",
            "1990366432         -0.064318        -0.060228        -0.056508   \n",
            "1990366432         -0.073349        -0.066871        -0.057975   \n",
            "\n",
            "             z_right_hand_18  z_right_hand_19  z_right_hand_20  \n",
            "sequence_id                                                     \n",
            "1990366432         -0.102833        -0.103488        -0.102409  \n",
            "1990366432         -0.081526        -0.081359        -0.076280  \n",
            "1990366432         -0.063157        -0.065100        -0.060411  \n",
            "1990366432         -0.079838        -0.081965        -0.078497  \n",
            "1990366432         -0.089235        -0.089729        -0.083339  \n",
            "\n",
            "[5 rows x 1630 columns]\n",
            "shape of erik hamilton is: (142, 1630)\n"
          ]
        }
      ]
    },
    {
      "cell_type": "markdown",
      "source": [
        "This particular phrase 'erik hamilton' contains 142 entries and 1630 columns"
      ],
      "metadata": {
        "id": "EhuqntqCozR0"
      }
    },
    {
      "cell_type": "code",
      "source": [
        "#Parsing the JSON file into a Python Object\n",
        "\n",
        "# Open and read the JSON file\n",
        "with open('character_to_prediction.json', 'r') as file:\n",
        "    char_to_pred = json.load(file)\n",
        "\n",
        "# Print the data\n",
        "print(char_to_pred)"
      ],
      "metadata": {
        "colab": {
          "base_uri": "https://localhost:8080/"
        },
        "id": "wrsQIBEp_eYC",
        "outputId": "1fc43902-156e-4d37-803d-d1206019b980"
      },
      "execution_count": 9,
      "outputs": [
        {
          "output_type": "stream",
          "name": "stdout",
          "text": [
            "{' ': 0, '!': 1, '#': 2, '$': 3, '%': 4, '&': 5, \"'\": 6, '(': 7, ')': 8, '*': 9, '+': 10, ',': 11, '-': 12, '.': 13, '/': 14, '0': 15, '1': 16, '2': 17, '3': 18, '4': 19, '5': 20, '6': 21, '7': 22, '8': 23, '9': 24, ':': 25, ';': 26, '=': 27, '?': 28, '@': 29, '[': 30, '_': 31, 'a': 32, 'b': 33, 'c': 34, 'd': 35, 'e': 36, 'f': 37, 'g': 38, 'h': 39, 'i': 40, 'j': 41, 'k': 42, 'l': 43, 'm': 44, 'n': 45, 'o': 46, 'p': 47, 'q': 48, 'r': 49, 's': 50, 't': 51, 'u': 52, 'v': 53, 'w': 54, 'x': 55, 'y': 56, 'z': 57, '~': 58}\n"
          ]
        }
      ]
    },
    {
      "cell_type": "code",
      "source": [
        "#Merging the data to add the label to the landmark data\n",
        "combined_df = df_landmark.merge(df[['sequence_id', 'phrase']], how='left', left_index=True, right_on='sequence_id')\n",
        "print(combined_df.head())\n",
        "print(f\"shape of merged data is: {combined_df.shape}\")"
      ],
      "metadata": {
        "colab": {
          "base_uri": "https://localhost:8080/"
        },
        "id": "WK_mVdMaDPdM",
        "outputId": "7e507085-d654-4878-c61a-9ba8bce59447"
      },
      "execution_count": 10,
      "outputs": [
        {
          "output_type": "stream",
          "name": "stdout",
          "text": [
            "       frame  x_face_0  x_face_1  x_face_2  x_face_3  x_face_4  x_face_5  \\\n",
            "30259      0  0.578892  0.578482  0.582906  0.572686  0.579030  0.582115   \n",
            "30259      1  0.577563  0.578528  0.582916  0.572760  0.579090  0.582197   \n",
            "30259      2  0.576181  0.576949  0.581346  0.572293  0.577725  0.581191   \n",
            "30259      3  0.575575  0.577569  0.581769  0.572443  0.578289  0.581652   \n",
            "30259      4  0.577907  0.577628  0.582295  0.572930  0.578345  0.581873   \n",
            "\n",
            "       x_face_6  x_face_7  x_face_8  ...  z_right_hand_13  z_right_hand_14  \\\n",
            "30259  0.591430  0.498995  0.595773  ...        -0.123892        -0.195255   \n",
            "30259  0.591687  0.497613  0.596104  ...              NaN              NaN   \n",
            "30259  0.591550  0.497113  0.596477  ...        -0.116145        -0.179053   \n",
            "30259  0.591728  0.496759  0.596573  ...        -0.093956        -0.149982   \n",
            "30259  0.592467  0.498170  0.597383  ...              NaN              NaN   \n",
            "\n",
            "       z_right_hand_15  z_right_hand_16  z_right_hand_17  z_right_hand_18  \\\n",
            "30259        -0.249135        -0.284375        -0.125050        -0.187797   \n",
            "30259              NaN              NaN              NaN              NaN   \n",
            "30259        -0.223861        -0.253004        -0.122090        -0.173169   \n",
            "30259        -0.188452        -0.211573        -0.102759        -0.147642   \n",
            "30259              NaN              NaN              NaN              NaN   \n",
            "\n",
            "       z_right_hand_19  z_right_hand_20  sequence_id       phrase  \n",
            "30259        -0.224827        -0.249662   1975433633  +95-335-395  \n",
            "30259              NaN              NaN   1975433633  +95-335-395  \n",
            "30259        -0.200727        -0.219106   1975433633  +95-335-395  \n",
            "30259        -0.168562        -0.180578   1975433633  +95-335-395  \n",
            "30259              NaN              NaN   1975433633  +95-335-395  \n",
            "\n",
            "[5 rows x 1632 columns]\n",
            "shape of merged data is: (161461, 1632)\n"
          ]
        }
      ]
    },
    {
      "cell_type": "code",
      "source": [
        "#setting sequence_id as index\n",
        "combined_df.set_index('sequence_id', inplace=True)\n",
        "print(combined_df.head())"
      ],
      "metadata": {
        "colab": {
          "base_uri": "https://localhost:8080/"
        },
        "id": "VygkfGVC2FhJ",
        "outputId": "cc6f1583-b27c-40f7-e306-c86b237665ab"
      },
      "execution_count": 11,
      "outputs": [
        {
          "output_type": "stream",
          "name": "stdout",
          "text": [
            "             frame  x_face_0  x_face_1  x_face_2  x_face_3  x_face_4  \\\n",
            "sequence_id                                                            \n",
            "1975433633       0  0.578892  0.578482  0.582906  0.572686  0.579030   \n",
            "1975433633       1  0.577563  0.578528  0.582916  0.572760  0.579090   \n",
            "1975433633       2  0.576181  0.576949  0.581346  0.572293  0.577725   \n",
            "1975433633       3  0.575575  0.577569  0.581769  0.572443  0.578289   \n",
            "1975433633       4  0.577907  0.577628  0.582295  0.572930  0.578345   \n",
            "\n",
            "             x_face_5  x_face_6  x_face_7  x_face_8  ...  z_right_hand_12  \\\n",
            "sequence_id                                          ...                    \n",
            "1975433633   0.582115  0.591430  0.498995  0.595773  ...        -0.291687   \n",
            "1975433633   0.582197  0.591687  0.497613  0.596104  ...              NaN   \n",
            "1975433633   0.581191  0.591550  0.497113  0.596477  ...        -0.267114   \n",
            "1975433633   0.581652  0.591728  0.496759  0.596573  ...        -0.218471   \n",
            "1975433633   0.581873  0.592467  0.498170  0.597383  ...              NaN   \n",
            "\n",
            "             z_right_hand_13  z_right_hand_14  z_right_hand_15  \\\n",
            "sequence_id                                                      \n",
            "1975433633         -0.123892        -0.195255        -0.249135   \n",
            "1975433633               NaN              NaN              NaN   \n",
            "1975433633         -0.116145        -0.179053        -0.223861   \n",
            "1975433633         -0.093956        -0.149982        -0.188452   \n",
            "1975433633               NaN              NaN              NaN   \n",
            "\n",
            "             z_right_hand_16  z_right_hand_17  z_right_hand_18  \\\n",
            "sequence_id                                                      \n",
            "1975433633         -0.284375        -0.125050        -0.187797   \n",
            "1975433633               NaN              NaN              NaN   \n",
            "1975433633         -0.253004        -0.122090        -0.173169   \n",
            "1975433633         -0.211573        -0.102759        -0.147642   \n",
            "1975433633               NaN              NaN              NaN   \n",
            "\n",
            "             z_right_hand_19  z_right_hand_20       phrase  \n",
            "sequence_id                                                 \n",
            "1975433633         -0.224827        -0.249662  +95-335-395  \n",
            "1975433633               NaN              NaN  +95-335-395  \n",
            "1975433633         -0.200727        -0.219106  +95-335-395  \n",
            "1975433633         -0.168562        -0.180578  +95-335-395  \n",
            "1975433633               NaN              NaN  +95-335-395  \n",
            "\n",
            "[5 rows x 1631 columns]\n"
          ]
        }
      ]
    },
    {
      "cell_type": "markdown",
      "source": [
        "### Preprocessing the Data\n",
        "\n"
      ],
      "metadata": {
        "id": "CEabPFwPC3BQ"
      }
    },
    {
      "cell_type": "markdown",
      "source": [
        "####Handling NaN Values\n"
      ],
      "metadata": {
        "id": "KAwQFBU-zPVY"
      }
    },
    {
      "cell_type": "code",
      "source": [
        "#Checking if the dataset has NaN values\n",
        "combined_df.isna()"
      ],
      "metadata": {
        "colab": {
          "base_uri": "https://localhost:8080/",
          "height": 0
        },
        "id": "s6H5CaOUGDxx",
        "outputId": "9ff1df4a-ec34-4a6c-fb39-9d24888edd2e"
      },
      "execution_count": 12,
      "outputs": [
        {
          "output_type": "execute_result",
          "data": {
            "text/plain": [
              "             frame  x_face_0  x_face_1  x_face_2  x_face_3  x_face_4  \\\n",
              "sequence_id                                                            \n",
              "1975433633   False     False     False     False     False     False   \n",
              "1975433633   False     False     False     False     False     False   \n",
              "1975433633   False     False     False     False     False     False   \n",
              "1975433633   False     False     False     False     False     False   \n",
              "1975433633   False     False     False     False     False     False   \n",
              "...            ...       ...       ...       ...       ...       ...   \n",
              "2008677531   False     False     False     False     False     False   \n",
              "2008677531   False     False     False     False     False     False   \n",
              "2008677531   False     False     False     False     False     False   \n",
              "2008677531   False      True      True      True      True      True   \n",
              "2008677531   False     False     False     False     False     False   \n",
              "\n",
              "             x_face_5  x_face_6  x_face_7  x_face_8  ...  z_right_hand_12  \\\n",
              "sequence_id                                          ...                    \n",
              "1975433633      False     False     False     False  ...            False   \n",
              "1975433633      False     False     False     False  ...             True   \n",
              "1975433633      False     False     False     False  ...            False   \n",
              "1975433633      False     False     False     False  ...            False   \n",
              "1975433633      False     False     False     False  ...             True   \n",
              "...               ...       ...       ...       ...  ...              ...   \n",
              "2008677531      False     False     False     False  ...             True   \n",
              "2008677531      False     False     False     False  ...             True   \n",
              "2008677531      False     False     False     False  ...             True   \n",
              "2008677531       True      True      True      True  ...             True   \n",
              "2008677531      False     False     False     False  ...            False   \n",
              "\n",
              "             z_right_hand_13  z_right_hand_14  z_right_hand_15  \\\n",
              "sequence_id                                                      \n",
              "1975433633             False            False            False   \n",
              "1975433633              True             True             True   \n",
              "1975433633             False            False            False   \n",
              "1975433633             False            False            False   \n",
              "1975433633              True             True             True   \n",
              "...                      ...              ...              ...   \n",
              "2008677531              True             True             True   \n",
              "2008677531              True             True             True   \n",
              "2008677531              True             True             True   \n",
              "2008677531              True             True             True   \n",
              "2008677531             False            False            False   \n",
              "\n",
              "             z_right_hand_16  z_right_hand_17  z_right_hand_18  \\\n",
              "sequence_id                                                      \n",
              "1975433633             False            False            False   \n",
              "1975433633              True             True             True   \n",
              "1975433633             False            False            False   \n",
              "1975433633             False            False            False   \n",
              "1975433633              True             True             True   \n",
              "...                      ...              ...              ...   \n",
              "2008677531              True             True             True   \n",
              "2008677531              True             True             True   \n",
              "2008677531              True             True             True   \n",
              "2008677531              True             True             True   \n",
              "2008677531             False            False            False   \n",
              "\n",
              "             z_right_hand_19  z_right_hand_20  phrase  \n",
              "sequence_id                                            \n",
              "1975433633             False            False   False  \n",
              "1975433633              True             True   False  \n",
              "1975433633             False            False   False  \n",
              "1975433633             False            False   False  \n",
              "1975433633              True             True   False  \n",
              "...                      ...              ...     ...  \n",
              "2008677531              True             True   False  \n",
              "2008677531              True             True   False  \n",
              "2008677531              True             True   False  \n",
              "2008677531              True             True   False  \n",
              "2008677531             False            False   False  \n",
              "\n",
              "[161461 rows x 1631 columns]"
            ],
            "text/html": [
              "\n",
              "  <div id=\"df-5b706fc0-9e16-473c-b317-0e127439208c\" class=\"colab-df-container\">\n",
              "    <div>\n",
              "<style scoped>\n",
              "    .dataframe tbody tr th:only-of-type {\n",
              "        vertical-align: middle;\n",
              "    }\n",
              "\n",
              "    .dataframe tbody tr th {\n",
              "        vertical-align: top;\n",
              "    }\n",
              "\n",
              "    .dataframe thead th {\n",
              "        text-align: right;\n",
              "    }\n",
              "</style>\n",
              "<table border=\"1\" class=\"dataframe\">\n",
              "  <thead>\n",
              "    <tr style=\"text-align: right;\">\n",
              "      <th></th>\n",
              "      <th>frame</th>\n",
              "      <th>x_face_0</th>\n",
              "      <th>x_face_1</th>\n",
              "      <th>x_face_2</th>\n",
              "      <th>x_face_3</th>\n",
              "      <th>x_face_4</th>\n",
              "      <th>x_face_5</th>\n",
              "      <th>x_face_6</th>\n",
              "      <th>x_face_7</th>\n",
              "      <th>x_face_8</th>\n",
              "      <th>...</th>\n",
              "      <th>z_right_hand_12</th>\n",
              "      <th>z_right_hand_13</th>\n",
              "      <th>z_right_hand_14</th>\n",
              "      <th>z_right_hand_15</th>\n",
              "      <th>z_right_hand_16</th>\n",
              "      <th>z_right_hand_17</th>\n",
              "      <th>z_right_hand_18</th>\n",
              "      <th>z_right_hand_19</th>\n",
              "      <th>z_right_hand_20</th>\n",
              "      <th>phrase</th>\n",
              "    </tr>\n",
              "    <tr>\n",
              "      <th>sequence_id</th>\n",
              "      <th></th>\n",
              "      <th></th>\n",
              "      <th></th>\n",
              "      <th></th>\n",
              "      <th></th>\n",
              "      <th></th>\n",
              "      <th></th>\n",
              "      <th></th>\n",
              "      <th></th>\n",
              "      <th></th>\n",
              "      <th></th>\n",
              "      <th></th>\n",
              "      <th></th>\n",
              "      <th></th>\n",
              "      <th></th>\n",
              "      <th></th>\n",
              "      <th></th>\n",
              "      <th></th>\n",
              "      <th></th>\n",
              "      <th></th>\n",
              "      <th></th>\n",
              "    </tr>\n",
              "  </thead>\n",
              "  <tbody>\n",
              "    <tr>\n",
              "      <th>1975433633</th>\n",
              "      <td>False</td>\n",
              "      <td>False</td>\n",
              "      <td>False</td>\n",
              "      <td>False</td>\n",
              "      <td>False</td>\n",
              "      <td>False</td>\n",
              "      <td>False</td>\n",
              "      <td>False</td>\n",
              "      <td>False</td>\n",
              "      <td>False</td>\n",
              "      <td>...</td>\n",
              "      <td>False</td>\n",
              "      <td>False</td>\n",
              "      <td>False</td>\n",
              "      <td>False</td>\n",
              "      <td>False</td>\n",
              "      <td>False</td>\n",
              "      <td>False</td>\n",
              "      <td>False</td>\n",
              "      <td>False</td>\n",
              "      <td>False</td>\n",
              "    </tr>\n",
              "    <tr>\n",
              "      <th>1975433633</th>\n",
              "      <td>False</td>\n",
              "      <td>False</td>\n",
              "      <td>False</td>\n",
              "      <td>False</td>\n",
              "      <td>False</td>\n",
              "      <td>False</td>\n",
              "      <td>False</td>\n",
              "      <td>False</td>\n",
              "      <td>False</td>\n",
              "      <td>False</td>\n",
              "      <td>...</td>\n",
              "      <td>True</td>\n",
              "      <td>True</td>\n",
              "      <td>True</td>\n",
              "      <td>True</td>\n",
              "      <td>True</td>\n",
              "      <td>True</td>\n",
              "      <td>True</td>\n",
              "      <td>True</td>\n",
              "      <td>True</td>\n",
              "      <td>False</td>\n",
              "    </tr>\n",
              "    <tr>\n",
              "      <th>1975433633</th>\n",
              "      <td>False</td>\n",
              "      <td>False</td>\n",
              "      <td>False</td>\n",
              "      <td>False</td>\n",
              "      <td>False</td>\n",
              "      <td>False</td>\n",
              "      <td>False</td>\n",
              "      <td>False</td>\n",
              "      <td>False</td>\n",
              "      <td>False</td>\n",
              "      <td>...</td>\n",
              "      <td>False</td>\n",
              "      <td>False</td>\n",
              "      <td>False</td>\n",
              "      <td>False</td>\n",
              "      <td>False</td>\n",
              "      <td>False</td>\n",
              "      <td>False</td>\n",
              "      <td>False</td>\n",
              "      <td>False</td>\n",
              "      <td>False</td>\n",
              "    </tr>\n",
              "    <tr>\n",
              "      <th>1975433633</th>\n",
              "      <td>False</td>\n",
              "      <td>False</td>\n",
              "      <td>False</td>\n",
              "      <td>False</td>\n",
              "      <td>False</td>\n",
              "      <td>False</td>\n",
              "      <td>False</td>\n",
              "      <td>False</td>\n",
              "      <td>False</td>\n",
              "      <td>False</td>\n",
              "      <td>...</td>\n",
              "      <td>False</td>\n",
              "      <td>False</td>\n",
              "      <td>False</td>\n",
              "      <td>False</td>\n",
              "      <td>False</td>\n",
              "      <td>False</td>\n",
              "      <td>False</td>\n",
              "      <td>False</td>\n",
              "      <td>False</td>\n",
              "      <td>False</td>\n",
              "    </tr>\n",
              "    <tr>\n",
              "      <th>1975433633</th>\n",
              "      <td>False</td>\n",
              "      <td>False</td>\n",
              "      <td>False</td>\n",
              "      <td>False</td>\n",
              "      <td>False</td>\n",
              "      <td>False</td>\n",
              "      <td>False</td>\n",
              "      <td>False</td>\n",
              "      <td>False</td>\n",
              "      <td>False</td>\n",
              "      <td>...</td>\n",
              "      <td>True</td>\n",
              "      <td>True</td>\n",
              "      <td>True</td>\n",
              "      <td>True</td>\n",
              "      <td>True</td>\n",
              "      <td>True</td>\n",
              "      <td>True</td>\n",
              "      <td>True</td>\n",
              "      <td>True</td>\n",
              "      <td>False</td>\n",
              "    </tr>\n",
              "    <tr>\n",
              "      <th>...</th>\n",
              "      <td>...</td>\n",
              "      <td>...</td>\n",
              "      <td>...</td>\n",
              "      <td>...</td>\n",
              "      <td>...</td>\n",
              "      <td>...</td>\n",
              "      <td>...</td>\n",
              "      <td>...</td>\n",
              "      <td>...</td>\n",
              "      <td>...</td>\n",
              "      <td>...</td>\n",
              "      <td>...</td>\n",
              "      <td>...</td>\n",
              "      <td>...</td>\n",
              "      <td>...</td>\n",
              "      <td>...</td>\n",
              "      <td>...</td>\n",
              "      <td>...</td>\n",
              "      <td>...</td>\n",
              "      <td>...</td>\n",
              "      <td>...</td>\n",
              "    </tr>\n",
              "    <tr>\n",
              "      <th>2008677531</th>\n",
              "      <td>False</td>\n",
              "      <td>False</td>\n",
              "      <td>False</td>\n",
              "      <td>False</td>\n",
              "      <td>False</td>\n",
              "      <td>False</td>\n",
              "      <td>False</td>\n",
              "      <td>False</td>\n",
              "      <td>False</td>\n",
              "      <td>False</td>\n",
              "      <td>...</td>\n",
              "      <td>True</td>\n",
              "      <td>True</td>\n",
              "      <td>True</td>\n",
              "      <td>True</td>\n",
              "      <td>True</td>\n",
              "      <td>True</td>\n",
              "      <td>True</td>\n",
              "      <td>True</td>\n",
              "      <td>True</td>\n",
              "      <td>False</td>\n",
              "    </tr>\n",
              "    <tr>\n",
              "      <th>2008677531</th>\n",
              "      <td>False</td>\n",
              "      <td>False</td>\n",
              "      <td>False</td>\n",
              "      <td>False</td>\n",
              "      <td>False</td>\n",
              "      <td>False</td>\n",
              "      <td>False</td>\n",
              "      <td>False</td>\n",
              "      <td>False</td>\n",
              "      <td>False</td>\n",
              "      <td>...</td>\n",
              "      <td>True</td>\n",
              "      <td>True</td>\n",
              "      <td>True</td>\n",
              "      <td>True</td>\n",
              "      <td>True</td>\n",
              "      <td>True</td>\n",
              "      <td>True</td>\n",
              "      <td>True</td>\n",
              "      <td>True</td>\n",
              "      <td>False</td>\n",
              "    </tr>\n",
              "    <tr>\n",
              "      <th>2008677531</th>\n",
              "      <td>False</td>\n",
              "      <td>False</td>\n",
              "      <td>False</td>\n",
              "      <td>False</td>\n",
              "      <td>False</td>\n",
              "      <td>False</td>\n",
              "      <td>False</td>\n",
              "      <td>False</td>\n",
              "      <td>False</td>\n",
              "      <td>False</td>\n",
              "      <td>...</td>\n",
              "      <td>True</td>\n",
              "      <td>True</td>\n",
              "      <td>True</td>\n",
              "      <td>True</td>\n",
              "      <td>True</td>\n",
              "      <td>True</td>\n",
              "      <td>True</td>\n",
              "      <td>True</td>\n",
              "      <td>True</td>\n",
              "      <td>False</td>\n",
              "    </tr>\n",
              "    <tr>\n",
              "      <th>2008677531</th>\n",
              "      <td>False</td>\n",
              "      <td>True</td>\n",
              "      <td>True</td>\n",
              "      <td>True</td>\n",
              "      <td>True</td>\n",
              "      <td>True</td>\n",
              "      <td>True</td>\n",
              "      <td>True</td>\n",
              "      <td>True</td>\n",
              "      <td>True</td>\n",
              "      <td>...</td>\n",
              "      <td>True</td>\n",
              "      <td>True</td>\n",
              "      <td>True</td>\n",
              "      <td>True</td>\n",
              "      <td>True</td>\n",
              "      <td>True</td>\n",
              "      <td>True</td>\n",
              "      <td>True</td>\n",
              "      <td>True</td>\n",
              "      <td>False</td>\n",
              "    </tr>\n",
              "    <tr>\n",
              "      <th>2008677531</th>\n",
              "      <td>False</td>\n",
              "      <td>False</td>\n",
              "      <td>False</td>\n",
              "      <td>False</td>\n",
              "      <td>False</td>\n",
              "      <td>False</td>\n",
              "      <td>False</td>\n",
              "      <td>False</td>\n",
              "      <td>False</td>\n",
              "      <td>False</td>\n",
              "      <td>...</td>\n",
              "      <td>False</td>\n",
              "      <td>False</td>\n",
              "      <td>False</td>\n",
              "      <td>False</td>\n",
              "      <td>False</td>\n",
              "      <td>False</td>\n",
              "      <td>False</td>\n",
              "      <td>False</td>\n",
              "      <td>False</td>\n",
              "      <td>False</td>\n",
              "    </tr>\n",
              "  </tbody>\n",
              "</table>\n",
              "<p>161461 rows × 1631 columns</p>\n",
              "</div>\n",
              "    <div class=\"colab-df-buttons\">\n",
              "\n",
              "  <div class=\"colab-df-container\">\n",
              "    <button class=\"colab-df-convert\" onclick=\"convertToInteractive('df-5b706fc0-9e16-473c-b317-0e127439208c')\"\n",
              "            title=\"Convert this dataframe to an interactive table.\"\n",
              "            style=\"display:none;\">\n",
              "\n",
              "  <svg xmlns=\"http://www.w3.org/2000/svg\" height=\"24px\" viewBox=\"0 -960 960 960\">\n",
              "    <path d=\"M120-120v-720h720v720H120Zm60-500h600v-160H180v160Zm220 220h160v-160H400v160Zm0 220h160v-160H400v160ZM180-400h160v-160H180v160Zm440 0h160v-160H620v160ZM180-180h160v-160H180v160Zm440 0h160v-160H620v160Z\"/>\n",
              "  </svg>\n",
              "    </button>\n",
              "\n",
              "  <style>\n",
              "    .colab-df-container {\n",
              "      display:flex;\n",
              "      gap: 12px;\n",
              "    }\n",
              "\n",
              "    .colab-df-convert {\n",
              "      background-color: #E8F0FE;\n",
              "      border: none;\n",
              "      border-radius: 50%;\n",
              "      cursor: pointer;\n",
              "      display: none;\n",
              "      fill: #1967D2;\n",
              "      height: 32px;\n",
              "      padding: 0 0 0 0;\n",
              "      width: 32px;\n",
              "    }\n",
              "\n",
              "    .colab-df-convert:hover {\n",
              "      background-color: #E2EBFA;\n",
              "      box-shadow: 0px 1px 2px rgba(60, 64, 67, 0.3), 0px 1px 3px 1px rgba(60, 64, 67, 0.15);\n",
              "      fill: #174EA6;\n",
              "    }\n",
              "\n",
              "    .colab-df-buttons div {\n",
              "      margin-bottom: 4px;\n",
              "    }\n",
              "\n",
              "    [theme=dark] .colab-df-convert {\n",
              "      background-color: #3B4455;\n",
              "      fill: #D2E3FC;\n",
              "    }\n",
              "\n",
              "    [theme=dark] .colab-df-convert:hover {\n",
              "      background-color: #434B5C;\n",
              "      box-shadow: 0px 1px 3px 1px rgba(0, 0, 0, 0.15);\n",
              "      filter: drop-shadow(0px 1px 2px rgba(0, 0, 0, 0.3));\n",
              "      fill: #FFFFFF;\n",
              "    }\n",
              "  </style>\n",
              "\n",
              "    <script>\n",
              "      const buttonEl =\n",
              "        document.querySelector('#df-5b706fc0-9e16-473c-b317-0e127439208c button.colab-df-convert');\n",
              "      buttonEl.style.display =\n",
              "        google.colab.kernel.accessAllowed ? 'block' : 'none';\n",
              "\n",
              "      async function convertToInteractive(key) {\n",
              "        const element = document.querySelector('#df-5b706fc0-9e16-473c-b317-0e127439208c');\n",
              "        const dataTable =\n",
              "          await google.colab.kernel.invokeFunction('convertToInteractive',\n",
              "                                                    [key], {});\n",
              "        if (!dataTable) return;\n",
              "\n",
              "        const docLinkHtml = 'Like what you see? Visit the ' +\n",
              "          '<a target=\"_blank\" href=https://colab.research.google.com/notebooks/data_table.ipynb>data table notebook</a>'\n",
              "          + ' to learn more about interactive tables.';\n",
              "        element.innerHTML = '';\n",
              "        dataTable['output_type'] = 'display_data';\n",
              "        await google.colab.output.renderOutput(dataTable, element);\n",
              "        const docLink = document.createElement('div');\n",
              "        docLink.innerHTML = docLinkHtml;\n",
              "        element.appendChild(docLink);\n",
              "      }\n",
              "    </script>\n",
              "  </div>\n",
              "\n",
              "\n",
              "<div id=\"df-8db8e23c-30a2-45ce-85e8-b08e4314b626\">\n",
              "  <button class=\"colab-df-quickchart\" onclick=\"quickchart('df-8db8e23c-30a2-45ce-85e8-b08e4314b626')\"\n",
              "            title=\"Suggest charts\"\n",
              "            style=\"display:none;\">\n",
              "\n",
              "<svg xmlns=\"http://www.w3.org/2000/svg\" height=\"24px\"viewBox=\"0 0 24 24\"\n",
              "     width=\"24px\">\n",
              "    <g>\n",
              "        <path d=\"M19 3H5c-1.1 0-2 .9-2 2v14c0 1.1.9 2 2 2h14c1.1 0 2-.9 2-2V5c0-1.1-.9-2-2-2zM9 17H7v-7h2v7zm4 0h-2V7h2v10zm4 0h-2v-4h2v4z\"/>\n",
              "    </g>\n",
              "</svg>\n",
              "  </button>\n",
              "\n",
              "<style>\n",
              "  .colab-df-quickchart {\n",
              "      --bg-color: #E8F0FE;\n",
              "      --fill-color: #1967D2;\n",
              "      --hover-bg-color: #E2EBFA;\n",
              "      --hover-fill-color: #174EA6;\n",
              "      --disabled-fill-color: #AAA;\n",
              "      --disabled-bg-color: #DDD;\n",
              "  }\n",
              "\n",
              "  [theme=dark] .colab-df-quickchart {\n",
              "      --bg-color: #3B4455;\n",
              "      --fill-color: #D2E3FC;\n",
              "      --hover-bg-color: #434B5C;\n",
              "      --hover-fill-color: #FFFFFF;\n",
              "      --disabled-bg-color: #3B4455;\n",
              "      --disabled-fill-color: #666;\n",
              "  }\n",
              "\n",
              "  .colab-df-quickchart {\n",
              "    background-color: var(--bg-color);\n",
              "    border: none;\n",
              "    border-radius: 50%;\n",
              "    cursor: pointer;\n",
              "    display: none;\n",
              "    fill: var(--fill-color);\n",
              "    height: 32px;\n",
              "    padding: 0;\n",
              "    width: 32px;\n",
              "  }\n",
              "\n",
              "  .colab-df-quickchart:hover {\n",
              "    background-color: var(--hover-bg-color);\n",
              "    box-shadow: 0 1px 2px rgba(60, 64, 67, 0.3), 0 1px 3px 1px rgba(60, 64, 67, 0.15);\n",
              "    fill: var(--button-hover-fill-color);\n",
              "  }\n",
              "\n",
              "  .colab-df-quickchart-complete:disabled,\n",
              "  .colab-df-quickchart-complete:disabled:hover {\n",
              "    background-color: var(--disabled-bg-color);\n",
              "    fill: var(--disabled-fill-color);\n",
              "    box-shadow: none;\n",
              "  }\n",
              "\n",
              "  .colab-df-spinner {\n",
              "    border: 2px solid var(--fill-color);\n",
              "    border-color: transparent;\n",
              "    border-bottom-color: var(--fill-color);\n",
              "    animation:\n",
              "      spin 1s steps(1) infinite;\n",
              "  }\n",
              "\n",
              "  @keyframes spin {\n",
              "    0% {\n",
              "      border-color: transparent;\n",
              "      border-bottom-color: var(--fill-color);\n",
              "      border-left-color: var(--fill-color);\n",
              "    }\n",
              "    20% {\n",
              "      border-color: transparent;\n",
              "      border-left-color: var(--fill-color);\n",
              "      border-top-color: var(--fill-color);\n",
              "    }\n",
              "    30% {\n",
              "      border-color: transparent;\n",
              "      border-left-color: var(--fill-color);\n",
              "      border-top-color: var(--fill-color);\n",
              "      border-right-color: var(--fill-color);\n",
              "    }\n",
              "    40% {\n",
              "      border-color: transparent;\n",
              "      border-right-color: var(--fill-color);\n",
              "      border-top-color: var(--fill-color);\n",
              "    }\n",
              "    60% {\n",
              "      border-color: transparent;\n",
              "      border-right-color: var(--fill-color);\n",
              "    }\n",
              "    80% {\n",
              "      border-color: transparent;\n",
              "      border-right-color: var(--fill-color);\n",
              "      border-bottom-color: var(--fill-color);\n",
              "    }\n",
              "    90% {\n",
              "      border-color: transparent;\n",
              "      border-bottom-color: var(--fill-color);\n",
              "    }\n",
              "  }\n",
              "</style>\n",
              "\n",
              "  <script>\n",
              "    async function quickchart(key) {\n",
              "      const quickchartButtonEl =\n",
              "        document.querySelector('#' + key + ' button');\n",
              "      quickchartButtonEl.disabled = true;  // To prevent multiple clicks.\n",
              "      quickchartButtonEl.classList.add('colab-df-spinner');\n",
              "      try {\n",
              "        const charts = await google.colab.kernel.invokeFunction(\n",
              "            'suggestCharts', [key], {});\n",
              "      } catch (error) {\n",
              "        console.error('Error during call to suggestCharts:', error);\n",
              "      }\n",
              "      quickchartButtonEl.classList.remove('colab-df-spinner');\n",
              "      quickchartButtonEl.classList.add('colab-df-quickchart-complete');\n",
              "    }\n",
              "    (() => {\n",
              "      let quickchartButtonEl =\n",
              "        document.querySelector('#df-8db8e23c-30a2-45ce-85e8-b08e4314b626 button');\n",
              "      quickchartButtonEl.style.display =\n",
              "        google.colab.kernel.accessAllowed ? 'block' : 'none';\n",
              "    })();\n",
              "  </script>\n",
              "</div>\n",
              "\n",
              "    </div>\n",
              "  </div>\n"
            ]
          },
          "metadata": {},
          "execution_count": 12
        }
      ]
    },
    {
      "cell_type": "code",
      "source": [
        "#Filling the NaN values with 0\n",
        "combined_df = combined_df.fillna(0)"
      ],
      "metadata": {
        "id": "BJqUDtf-FMcL"
      },
      "execution_count": 13,
      "outputs": []
    },
    {
      "cell_type": "code",
      "source": [
        "#Confirming there are no NaN values present\n",
        "combined_df.isna().sum()"
      ],
      "metadata": {
        "colab": {
          "base_uri": "https://localhost:8080/"
        },
        "id": "_2DF3gjjz2PG",
        "outputId": "d4ec0512-1de3-4916-aea9-44ca82728c64"
      },
      "execution_count": 14,
      "outputs": [
        {
          "output_type": "execute_result",
          "data": {
            "text/plain": [
              "frame              0\n",
              "x_face_0           0\n",
              "x_face_1           0\n",
              "x_face_2           0\n",
              "x_face_3           0\n",
              "                  ..\n",
              "z_right_hand_17    0\n",
              "z_right_hand_18    0\n",
              "z_right_hand_19    0\n",
              "z_right_hand_20    0\n",
              "phrase             0\n",
              "Length: 1631, dtype: int64"
            ]
          },
          "metadata": {},
          "execution_count": 14
        }
      ]
    },
    {
      "cell_type": "markdown",
      "source": [
        "####Normalising Features"
      ],
      "metadata": {
        "id": "USvv58vvS5-Z"
      }
    },
    {
      "cell_type": "code",
      "source": [
        "# Initializing StandardScaler\n",
        "scaler = StandardScaler()\n",
        "\n",
        "# Creating a list to hold the normalized features for each sequence\n",
        "normalized_features = []\n",
        "\n",
        "# Grouping the data by 'sequence_id' index\n",
        "for sequence_id, group in combined_df.groupby(level=0):\n",
        "\n",
        "    # Sorting the group by the 'frame' column to ensure the correct temporal order\n",
        "    group_sorted = group.sort_values(by='frame')\n",
        "\n",
        "    # Extracting features from the sorted group, excluding the 'frame' and 'phrase' columns\n",
        "    features = group_sorted.drop(columns=['frame', 'phrase'], errors='ignore').values\n",
        "\n",
        "    # Normalizing the features\n",
        "    normalized_features.append(scaler.fit_transform(features))"
      ],
      "metadata": {
        "id": "mJ_cuTF9tHsp"
      },
      "execution_count": 15,
      "outputs": []
    },
    {
      "cell_type": "markdown",
      "source": [
        "####Padding Features"
      ],
      "metadata": {
        "id": "LzwZHgUeO9NQ"
      }
    },
    {
      "cell_type": "code",
      "source": [
        "# Determine the maximum sequence length if not already known (should be same as for labels)\n",
        "max_feature_sequence_length = max(len(sequence) for sequence in normalized_features)\n",
        "print(f\"Maximum sequence length of features is: {max_feature_sequence_length}\")\n",
        "\n",
        "# Pad the feature sequences\n",
        "padded_features = pad_sequences(normalized_features, maxlen=max_feature_sequence_length, padding='post', dtype='float32')\n"
      ],
      "metadata": {
        "colab": {
          "base_uri": "https://localhost:8080/"
        },
        "id": "WvHdU8xxPAZy",
        "outputId": "40595b1c-e751-4894-c0d4-015f0109d2c0"
      },
      "execution_count": 16,
      "outputs": [
        {
          "output_type": "stream",
          "name": "stdout",
          "text": [
            "Maximum sequence length of features is: 751\n"
          ]
        }
      ]
    },
    {
      "cell_type": "markdown",
      "source": [
        "####Encoding and Padding the Label Sequences"
      ],
      "metadata": {
        "id": "_G-NbqQq3oPs"
      }
    },
    {
      "cell_type": "code",
      "source": [
        "# Group by 'sequence_id' and select the last 'phrase' of each group\n",
        "labels_df = combined_df.groupby(level=0)['phrase'].last()\n",
        "print(labels_df.head())"
      ],
      "metadata": {
        "colab": {
          "base_uri": "https://localhost:8080/"
        },
        "id": "-a3GwV5OpEx9",
        "outputId": "efdf15e7-0971-462c-8ef7-995f2f9edbb5"
      },
      "execution_count": 17,
      "outputs": [
        {
          "output_type": "stream",
          "name": "stdout",
          "text": [
            "sequence_id\n",
            "1975433633                +95-335-395\n",
            "1975473601         bugs.launchpad.net\n",
            "1975502450    mirandasphysiosteps.com\n",
            "1975521182          5 endeavor circle\n",
            "1975541698               +44-4560-846\n",
            "Name: phrase, dtype: object\n"
          ]
        }
      ]
    },
    {
      "cell_type": "code",
      "source": [
        "# If you need this as a DataFrame:\n",
        "labels_df = labels_df.reset_index()\n",
        "# Converting phrases to sequence of integers using char_to_pred\n",
        "label_sequences = [[char_to_pred[char] for char in phrase] for phrase in labels_df['phrase']]"
      ],
      "metadata": {
        "id": "cXQIzNxJtDt5"
      },
      "execution_count": 18,
      "outputs": []
    },
    {
      "cell_type": "code",
      "source": [
        "# Calculating the maximum length of the sequences\n",
        "max_sequence_length = max(len(sequence) for sequence in label_sequences)\n",
        "print(f\"Maximum sequence length of phrase is: {max_sequence_length}\")\n",
        "\n",
        "# Padding the sequence labels\n",
        "padded_label_sequences = pad_sequences(label_sequences, maxlen=max_sequence_length, padding='post')\n",
        "print(f\"Shape of the padded label sequences is: {padded_label_sequences.shape}\")"
      ],
      "metadata": {
        "id": "MJPs2nQ7tKHT",
        "colab": {
          "base_uri": "https://localhost:8080/"
        },
        "outputId": "b4948dcc-6b48-4e5b-a7ae-1f9817fb6537"
      },
      "execution_count": 19,
      "outputs": [
        {
          "output_type": "stream",
          "name": "stdout",
          "text": [
            "Maximum sequence length of phrase is: 30\n",
            "Shape of the padded label sequences is: (998, 30)\n"
          ]
        }
      ]
    },
    {
      "cell_type": "code",
      "source": [
        "#Accounting for padding by adding 1 to the length\n",
        "num_classes = len(char_to_pred) + 1\n",
        "print(f\"The number of classes is: {num_classes}\")\n",
        "\n",
        "#One-hot encoding the last label of each sequence for a many-to-one setup\n",
        "last_label_indices = padded_label_sequences[:, -1]  # This gets the last label index for each sequence\n",
        "one_hot_labels = to_categorical(last_label_indices, num_classes=num_classes)\n",
        "\n",
        "# Checking the shape of the one-hot encoded labels\n",
        "print(f\"Shape of the One-Hot Encoded labels is: {one_hot_labels.shape}\")\n"
      ],
      "metadata": {
        "colab": {
          "base_uri": "https://localhost:8080/"
        },
        "id": "lqTj4wQcKsH6",
        "outputId": "526a8d73-e5ff-4e13-a47c-1a7e0c959132"
      },
      "execution_count": 20,
      "outputs": [
        {
          "output_type": "stream",
          "name": "stdout",
          "text": [
            "The number of classes is: 60\n",
            "Shape of the One-Hot Encoded labels is: (998, 60)\n"
          ]
        }
      ]
    },
    {
      "cell_type": "code",
      "source": [
        "print(\"Shape of padded_features:\", padded_features.shape)  # Expected: (998, max_sequence_length, number_of_features)\n",
        "print(\"Shape of one_hot_labels:\", one_hot_labels.shape)    # Expected: (998, num_classes)\n"
      ],
      "metadata": {
        "colab": {
          "base_uri": "https://localhost:8080/"
        },
        "id": "Q0YGw8rD0qsO",
        "outputId": "aaa597a5-ca9a-486f-d07c-4bdfc72ba476"
      },
      "execution_count": 21,
      "outputs": [
        {
          "output_type": "stream",
          "name": "stdout",
          "text": [
            "Shape of padded_features: (998, 751, 1629)\n",
            "Shape of one_hot_labels: (998, 60)\n"
          ]
        }
      ]
    },
    {
      "cell_type": "markdown",
      "source": [],
      "metadata": {
        "id": "VKL-A8d-sATy"
      }
    },
    {
      "cell_type": "markdown",
      "source": [
        "####Splitting Data"
      ],
      "metadata": {
        "id": "kuTehi0mx3jY"
      }
    },
    {
      "cell_type": "code",
      "source": [
        "# Splitting into training and remaining data\n",
        "X_train, X_temp, y_train, y_temp = train_test_split(padded_features, one_hot_labels, test_size=0.3, random_state=42)\n",
        "\n",
        "# Now splitting the remaining data into validation and test sets\n",
        "X_val, X_test, y_val, y_test = train_test_split(X_temp, y_temp, test_size=0.5, random_state=42)\n",
        "\n"
      ],
      "metadata": {
        "id": "wQSkKVYdx7Yd"
      },
      "execution_count": 40,
      "outputs": []
    },
    {
      "cell_type": "markdown",
      "source": [
        "###LSTM Model"
      ],
      "metadata": {
        "id": "t97_CaXDCazT"
      }
    },
    {
      "cell_type": "code",
      "source": [
        "# Defining the LSTM model\n",
        "model = Sequential()\n",
        "\n",
        "# Adding the first LSTM layer\n",
        "model.add(LSTM(units=50, return_sequences=True, input_shape=(751, 1629)))\n",
        "\n",
        "# Adding a dropout layer for regularization\n",
        "model.add(Dropout(0.2))\n",
        "\n",
        "# Adding another LSTM layer, return_sequences is False to return only the last output for the sequence\n",
        "model.add(LSTM(units=50))\n",
        "\n",
        "# Adding another dropout layer\n",
        "model.add(Dropout(0.2))\n",
        "\n",
        "# Output layer with 'softmax' activation, units equal to the number of classes (60)\n",
        "model.add(Dense(units=60, activation='softmax'))"
      ],
      "metadata": {
        "id": "HE2wdJx2CaEH"
      },
      "execution_count": null,
      "outputs": []
    },
    {
      "cell_type": "code",
      "source": [
        "# Compiling the model\n",
        "model.compile(optimizer='adam', loss='categorical_crossentropy', metrics=['accuracy'])\n",
        "\n",
        "# Printing the model summary\n",
        "model.summary()"
      ],
      "metadata": {
        "colab": {
          "base_uri": "https://localhost:8080/"
        },
        "id": "Q9JRUiWAC2w5",
        "outputId": "67feedfc-358d-4f35-b920-30853de9f191"
      },
      "execution_count": null,
      "outputs": [
        {
          "output_type": "stream",
          "name": "stdout",
          "text": [
            "Model: \"sequential\"\n",
            "_________________________________________________________________\n",
            " Layer (type)                Output Shape              Param #   \n",
            "=================================================================\n",
            " lstm (LSTM)                 (None, 751, 50)           336000    \n",
            "                                                                 \n",
            " dropout (Dropout)           (None, 751, 50)           0         \n",
            "                                                                 \n",
            " lstm_1 (LSTM)               (None, 50)                20200     \n",
            "                                                                 \n",
            " dropout_1 (Dropout)         (None, 50)                0         \n",
            "                                                                 \n",
            " dense (Dense)               (None, 60)                3060      \n",
            "                                                                 \n",
            "=================================================================\n",
            "Total params: 359260 (1.37 MB)\n",
            "Trainable params: 359260 (1.37 MB)\n",
            "Non-trainable params: 0 (0.00 Byte)\n",
            "_________________________________________________________________\n"
          ]
        }
      ]
    },
    {
      "cell_type": "code",
      "source": [
        "#Training the model\n",
        "history_lstm = model.fit(X_train, y_train, epochs=10, batch_size=64, validation_data=(X_val, y_val), callbacks=[early_stopping])"
      ],
      "metadata": {
        "colab": {
          "base_uri": "https://localhost:8080/"
        },
        "id": "3AOeRr9ZDPS8",
        "outputId": "2e72b0da-6c15-4d6a-bb31-e20d0d91c0df"
      },
      "execution_count": null,
      "outputs": [
        {
          "output_type": "stream",
          "name": "stdout",
          "text": [
            "Epoch 1/10\n",
            "10/10 [==============================] - 19s 2s/step - loss: 3.9975 - accuracy: 0.9812 - val_loss: 3.7240 - val_accuracy: 0.9688\n",
            "Epoch 2/10\n",
            "10/10 [==============================] - 12s 1s/step - loss: 2.4563 - accuracy: 0.9828 - val_loss: 1.0598 - val_accuracy: 0.9688\n",
            "Epoch 3/10\n",
            "10/10 [==============================] - 13s 1s/step - loss: 0.6284 - accuracy: 0.9828 - val_loss: 0.3661 - val_accuracy: 0.9688\n",
            "Epoch 4/10\n",
            "10/10 [==============================] - 12s 1s/step - loss: 0.2243 - accuracy: 0.9828 - val_loss: 0.2729 - val_accuracy: 0.9688\n",
            "Epoch 5/10\n",
            "10/10 [==============================] - 12s 1s/step - loss: 0.1672 - accuracy: 0.9828 - val_loss: 0.2655 - val_accuracy: 0.9688\n",
            "Epoch 6/10\n",
            "10/10 [==============================] - 12s 1s/step - loss: 0.1774 - accuracy: 0.9781 - val_loss: 0.2649 - val_accuracy: 0.9688\n",
            "Epoch 7/10\n",
            "10/10 [==============================] - 12s 1s/step - loss: 0.1528 - accuracy: 0.9828 - val_loss: 0.2642 - val_accuracy: 0.9688\n",
            "Epoch 8/10\n",
            "10/10 [==============================] - 12s 1s/step - loss: 0.1492 - accuracy: 0.9828 - val_loss: 0.2627 - val_accuracy: 0.9688\n",
            "Epoch 9/10\n",
            "10/10 [==============================] - 12s 1s/step - loss: 0.1448 - accuracy: 0.9828 - val_loss: 0.2610 - val_accuracy: 0.9688\n",
            "Epoch 10/10\n",
            "10/10 [==============================] - 12s 1s/step - loss: 0.1505 - accuracy: 0.9828 - val_loss: 0.2584 - val_accuracy: 0.9688\n"
          ]
        }
      ]
    },
    {
      "cell_type": "code",
      "source": [
        "#Evaluating model\n",
        "test_loss, test_accuracy = model.evaluate(X_test, y_test)\n",
        "print(f\"Test Accuracy: {test_accuracy}\")"
      ],
      "metadata": {
        "colab": {
          "base_uri": "https://localhost:8080/"
        },
        "id": "l_sHohE9DXD4",
        "outputId": "a971d6b2-28f0-41da-bff8-81fa508ba453"
      },
      "execution_count": null,
      "outputs": [
        {
          "output_type": "stream",
          "name": "stdout",
          "text": [
            "7/7 [==============================] - 2s 258ms/step - loss: 0.2915 - accuracy: 0.9650\n",
            "Test Accuracy: 0.9649999737739563\n"
          ]
        }
      ]
    },
    {
      "cell_type": "code",
      "source": [
        "# Assuming 'history' is the output from the model.fit() method\n",
        "history_dict = history.history\n",
        "\n",
        "# Plotting training and validation loss\n",
        "plt.figure(figsize=(12, 6))\n",
        "\n",
        "plt.plot(history_dict['loss'], label='Training Loss')\n",
        "plt.plot(history_dict['val_loss'], label='Validation Loss')\n",
        "plt.title('Training and Validation Loss')\n",
        "plt.xlabel('Epochs')\n",
        "plt.ylabel('Loss')\n",
        "plt.legend()\n",
        "\n",
        "plt.show()\n"
      ],
      "metadata": {
        "colab": {
          "base_uri": "https://localhost:8080/",
          "height": 564
        },
        "id": "gQWU-aw1Lfvd",
        "outputId": "995ef15c-b8f5-4cf9-bdc3-7d5c64249e02"
      },
      "execution_count": null,
      "outputs": [
        {
          "output_type": "display_data",
          "data": {
            "text/plain": [
              "<Figure size 1200x600 with 1 Axes>"
            ],
            "image/png": "[encoded data removed]"
          },
          "metadata": {}
        }
      ]
    },
    {
      "cell_type": "markdown",
      "source": [
        "###GRU Model"
      ],
      "metadata": {
        "id": "Es8GlZWHsCgy"
      }
    },
    {
      "cell_type": "code",
      "source": [
        "#GRU Model Architecture\n",
        "def create_gru_model():\n",
        "    model = Sequential()\n",
        "    model.add(GRU(units=128, return_sequences=True, input_shape=(751, 1629)))\n",
        "    model.add(GRU(units=128))\n",
        "    model.add(Dense(60, activation='softmax'))  # 60 classes\n",
        "    model.compile(optimizer='adam', loss='categorical_crossentropy', metrics=['accuracy'])\n",
        "    return model\n",
        "\n",
        "#Creating the model\n",
        "gru_model = create_gru_model()\n",
        "\n",
        "# Model summary\n",
        "gru_model.summary()\n"
      ],
      "metadata": {
        "colab": {
          "base_uri": "https://localhost:8080/"
        },
        "id": "1_JqsQPwsWND",
        "outputId": "6acc4ae9-4488-4665-fc65-48561d20ea9d"
      },
      "execution_count": 23,
      "outputs": [
        {
          "output_type": "stream",
          "name": "stdout",
          "text": [
            "Model: \"sequential\"\n",
            "_________________________________________________________________\n",
            " Layer (type)                Output Shape              Param #   \n",
            "=================================================================\n",
            " gru (GRU)                   (None, 751, 128)          675456    \n",
            "                                                                 \n",
            " gru_1 (GRU)                 (None, 128)               99072     \n",
            "                                                                 \n",
            " dense (Dense)               (None, 60)                7740      \n",
            "                                                                 \n",
            "=================================================================\n",
            "Total params: 782268 (2.98 MB)\n",
            "Trainable params: 782268 (2.98 MB)\n",
            "Non-trainable params: 0 (0.00 Byte)\n",
            "_________________________________________________________________\n"
          ]
        }
      ]
    },
    {
      "cell_type": "code",
      "source": [
        "# Early stopping callback\n",
        "early_stopping = EarlyStopping(monitor='val_loss', patience=3)\n",
        "\n",
        "# Model checkpoint callback\n",
        "model_checkpoint = ModelCheckpoint('gru_model.h5', monitor='val_loss', save_best_only=True)\n",
        "\n",
        "#Compiling the model\n",
        "gru_model.compile(optimizer='adam', loss='categorical_crossentropy', metrics=['accuracy'])\n",
        "\n",
        "#Training the model\n",
        "history_gru = gru_model.fit(X_train, y_train, epochs=10, batch_size=64, validation_data=(X_val, y_val), callbacks=[early_stopping])"
      ],
      "metadata": {
        "colab": {
          "base_uri": "https://localhost:8080/"
        },
        "id": "v_aBrzfgtRwq",
        "outputId": "c6531a0e-1985-49eb-bde4-9c92f052b1cb"
      },
      "execution_count": 31,
      "outputs": [
        {
          "output_type": "stream",
          "name": "stdout",
          "text": [
            "Epoch 1/10\n",
            "10/10 [==============================] - 27s 2s/step - loss: 3.7497 - accuracy: 0.9812 - val_loss: 2.5534 - val_accuracy: 0.9688\n",
            "Epoch 2/10\n",
            "10/10 [==============================] - 20s 2s/step - loss: 0.6656 - accuracy: 0.9828 - val_loss: 0.4404 - val_accuracy: 0.9688\n",
            "Epoch 3/10\n",
            "10/10 [==============================] - 20s 2s/step - loss: 0.2340 - accuracy: 0.9828 - val_loss: 0.4444 - val_accuracy: 0.9688\n",
            "Epoch 4/10\n",
            "10/10 [==============================] - 20s 2s/step - loss: 0.2242 - accuracy: 0.9828 - val_loss: 0.4290 - val_accuracy: 0.9688\n",
            "Epoch 5/10\n",
            "10/10 [==============================] - 20s 2s/step - loss: 0.2097 - accuracy: 0.9828 - val_loss: 0.4027 - val_accuracy: 0.9688\n",
            "Epoch 6/10\n",
            "10/10 [==============================] - 20s 2s/step - loss: 0.1915 - accuracy: 0.9828 - val_loss: 0.3749 - val_accuracy: 0.9688\n",
            "Epoch 7/10\n",
            "10/10 [==============================] - 20s 2s/step - loss: 0.1787 - accuracy: 0.9828 - val_loss: 0.3418 - val_accuracy: 0.9688\n",
            "Epoch 8/10\n",
            "10/10 [==============================] - 20s 2s/step - loss: 0.1536 - accuracy: 0.9828 - val_loss: 0.3179 - val_accuracy: 0.9688\n",
            "Epoch 9/10\n",
            "10/10 [==============================] - 20s 2s/step - loss: 0.1438 - accuracy: 0.9828 - val_loss: 0.2937 - val_accuracy: 0.9688\n",
            "Epoch 10/10\n",
            "10/10 [==============================] - 19s 2s/step - loss: 0.1315 - accuracy: 0.9828 - val_loss: 0.2825 - val_accuracy: 0.9688\n"
          ]
        }
      ]
    },
    {
      "cell_type": "code",
      "source": [
        "#Evaluating model\n",
        "test_loss, test_accuracy = gru_model.evaluate(X_test, y_test)\n",
        "print(f\"Test Accuracy: {test_accuracy}\")"
      ],
      "metadata": {
        "colab": {
          "base_uri": "https://localhost:8080/"
        },
        "id": "1F1V022Lv21O",
        "outputId": "3e792577-f9fc-49cd-db62-a82c2cf82988"
      },
      "execution_count": 32,
      "outputs": [
        {
          "output_type": "stream",
          "name": "stdout",
          "text": [
            "7/7 [==============================] - 3s 361ms/step - loss: 0.3807 - accuracy: 0.9650\n",
            "Test Accuracy: 0.9649999737739563\n"
          ]
        }
      ]
    },
    {
      "cell_type": "code",
      "source": [
        "history_dict_gru = history_gru.history\n",
        "\n",
        "# Plotting training and validation loss\n",
        "plt.figure(figsize=(12, 6))\n",
        "\n",
        "plt.plot(history_dict_gru['loss'], label='Training Loss')\n",
        "plt.plot(history_dict_gru['val_loss'], label='Validation Loss')\n",
        "plt.title('Training and Validation Loss of the GRU Model')\n",
        "plt.xlabel('Epochs')\n",
        "plt.ylabel('Loss')\n",
        "plt.legend()\n",
        "\n",
        "plt.show()\n"
      ],
      "metadata": {
        "colab": {
          "base_uri": "https://localhost:8080/",
          "height": 564
        },
        "id": "cgSK1lnowFqe",
        "outputId": "631d23a6-a4ed-48c2-a354-5a4cff2e6eda"
      },
      "execution_count": 33,
      "outputs": [
        {
          "output_type": "display_data",
          "data": {
            "text/plain": [
              "<Figure size 1200x600 with 1 Axes>"
            ],
            "image/png": "[encoded data removed]"
          },
          "metadata": {}
        }
      ]
    },
    {
      "cell_type": "markdown",
      "source": [
        "###TCN Model"
      ],
      "metadata": {
        "id": "_LqkUMxEwWbJ"
      }
    },
    {
      "cell_type": "code",
      "source": [
        "#Definig TCN Model Architecture\n",
        "def create_tcn_model():\n",
        "    input_shape = (751, 1629)  # Sequence length x number of features\n",
        "    num_classes = 60  # Number of output classes\n",
        "\n",
        "    input_layer = Input(shape=input_shape)\n",
        "    tcn_layer = TCN(nb_filters=32, kernel_size=3, nb_stacks=2, dilations=[1, 2, 4, 8, 16], padding='causal', return_sequences=False)(input_layer)\n",
        "    output_layer = Dense(num_classes, activation='softmax')(tcn_layer)\n",
        "    model = Model(inputs=[input_layer], outputs=[output_layer])\n",
        "    model.compile(optimizer='adam', loss='categorical_crossentropy', metrics=['accuracy'])\n",
        "    return model\n",
        "\n",
        "# Create the model\n",
        "tcn_model = create_tcn_model()\n",
        "\n",
        "# Model summary to verify the architecture\n",
        "tcn_model.summary()\n"
      ],
      "metadata": {
        "colab": {
          "base_uri": "https://localhost:8080/"
        },
        "id": "6_8dL34FwcQa",
        "outputId": "e0bb354f-33e3-4a9a-841b-80da410d2f10"
      },
      "execution_count": 38,
      "outputs": [
        {
          "output_type": "stream",
          "name": "stdout",
          "text": [
            "Model: \"model\"\n",
            "_________________________________________________________________\n",
            " Layer (type)                Output Shape              Param #   \n",
            "=================================================================\n",
            " input_1 (InputLayer)        [(None, 751, 1629)]       0         \n",
            "                                                                 \n",
            " tcn (TCN)                   (None, 32)                267552    \n",
            "                                                                 \n",
            " dense_1 (Dense)             (None, 60)                1980      \n",
            "                                                                 \n",
            "=================================================================\n",
            "Total params: 269532 (1.03 MB)\n",
            "Trainable params: 269532 (1.03 MB)\n",
            "Non-trainable params: 0 (0.00 Byte)\n",
            "_________________________________________________________________\n"
          ]
        }
      ]
    },
    {
      "cell_type": "code",
      "source": [
        "# Compile the model\n",
        "tcn_model.compile(optimizer='adam', loss='categorical_crossentropy', metrics=['accuracy'])\n",
        "\n",
        "# Early stopping callback\n",
        "early_stopping = EarlyStopping(monitor='val_loss', patience=3)\n",
        "\n",
        "# Train the model\n",
        "history_tcn = tcn_model.fit(X_train, y_train, epochs=10, batch_size=64, validation_data=(X_val, y_val), callbacks=[early_stopping])\n"
      ],
      "metadata": {
        "colab": {
          "base_uri": "https://localhost:8080/"
        },
        "id": "js6PG0SXypr7",
        "outputId": "a0b51314-3a11-405e-9915-4ea35c962e44"
      },
      "execution_count": 41,
      "outputs": [
        {
          "output_type": "stream",
          "name": "stdout",
          "text": [
            "Epoch 1/10\n",
            "11/11 [==============================] - 17s 1s/step - loss: 3.5605 - accuracy: 0.4370 - val_loss: 0.7110 - val_accuracy: 0.9733\n",
            "Epoch 2/10\n",
            "11/11 [==============================] - 10s 910ms/step - loss: 0.4941 - accuracy: 0.9771 - val_loss: 0.6069 - val_accuracy: 0.9733\n",
            "Epoch 3/10\n",
            "11/11 [==============================] - 10s 937ms/step - loss: 0.3193 - accuracy: 0.9771 - val_loss: 0.3359 - val_accuracy: 0.9733\n",
            "Epoch 4/10\n",
            "11/11 [==============================] - 11s 975ms/step - loss: 0.2319 - accuracy: 0.9771 - val_loss: 0.2977 - val_accuracy: 0.9733\n",
            "Epoch 5/10\n",
            "11/11 [==============================] - 10s 950ms/step - loss: 0.2096 - accuracy: 0.9771 - val_loss: 0.2731 - val_accuracy: 0.9733\n",
            "Epoch 6/10\n",
            "11/11 [==============================] - 10s 929ms/step - loss: 0.2044 - accuracy: 0.9771 - val_loss: 0.2716 - val_accuracy: 0.9733\n",
            "Epoch 7/10\n",
            "11/11 [==============================] - 10s 956ms/step - loss: 0.1929 - accuracy: 0.9771 - val_loss: 0.2716 - val_accuracy: 0.9733\n",
            "Epoch 8/10\n",
            "11/11 [==============================] - 10s 947ms/step - loss: 0.1897 - accuracy: 0.9771 - val_loss: 0.2705 - val_accuracy: 0.9733\n",
            "Epoch 9/10\n",
            "11/11 [==============================] - 10s 934ms/step - loss: 0.1842 - accuracy: 0.9771 - val_loss: 0.2871 - val_accuracy: 0.9733\n",
            "Epoch 10/10\n",
            "11/11 [==============================] - 10s 883ms/step - loss: 0.1844 - accuracy: 0.9771 - val_loss: 0.2709 - val_accuracy: 0.9733\n"
          ]
        }
      ]
    },
    {
      "cell_type": "code",
      "source": [
        "# Evaluate the model\n",
        "test_loss, test_accuracy = tcn_model.evaluate(X_test, y_test)\n",
        "print(f\"Test Loss: {test_loss}\")\n",
        "print(f\"Test Accuracy: {test_accuracy}\")"
      ],
      "metadata": {
        "colab": {
          "base_uri": "https://localhost:8080/"
        },
        "id": "2d0BVFuMy2VH",
        "outputId": "4c1decf8-49ca-4add-9bae-2b65273f0fc7"
      },
      "execution_count": 42,
      "outputs": [
        {
          "output_type": "stream",
          "name": "stdout",
          "text": [
            "5/5 [==============================] - 1s 154ms/step - loss: 0.1662 - accuracy: 0.9800\n",
            "Test Loss: 0.16621653735637665\n",
            "Test Accuracy: 0.9800000190734863\n"
          ]
        }
      ]
    },
    {
      "cell_type": "code",
      "source": [
        "# Plotting Training and Validation Loss and Accuracy\n",
        "plt.figure(figsize=(12, 5))\n",
        "\n",
        "plt.plot(history_tcn.history['loss'], label='Training Loss')\n",
        "plt.plot(history_tcn.history['val_loss'], label='Validation Loss')\n",
        "plt.title('Training and Validation Loss of TCN Model')\n",
        "plt.xlabel('Epochs')\n",
        "plt.ylabel('Loss')\n",
        "plt.legend()\n",
        "\n",
        "plt.show()"
      ],
      "metadata": {
        "colab": {
          "base_uri": "https://localhost:8080/",
          "height": 487
        },
        "id": "nUKMXSPH0M_x",
        "outputId": "66488909-8271-4667-aaad-a2143ae84c2e"
      },
      "execution_count": 44,
      "outputs": [
        {
          "output_type": "display_data",
          "data": {
            "text/plain": [
              "<Figure size 1200x500 with 1 Axes>"
            ],
            "image/png": "[encoded data removed]"
          },
          "metadata": {}
        }
      ]
    }
  ]
}